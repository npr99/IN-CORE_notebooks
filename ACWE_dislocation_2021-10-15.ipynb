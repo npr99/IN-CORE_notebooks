{
 "cells": [
  {
   "cell_type": "code",
   "execution_count": 1,
   "id": "1b9ab07d",
   "metadata": {},
   "outputs": [],
   "source": [
    "from pyincore import IncoreClient\n",
    "\n",
    "import numpy as np\n",
    "import pandas as pd\n",
    "import os"
   ]
  },
  {
   "cell_type": "code",
   "execution_count": 2,
   "id": "d7e57aba",
   "metadata": {},
   "outputs": [
    {
     "name": "stdout",
     "output_type": "stream",
     "text": [
      "Connection successful to IN-CORE services. pyIncore version detected: 0.9.6\n"
     ]
    }
   ],
   "source": [
    "client = IncoreClient()  # The authentication service validates username/password and\n",
    "                         # approves users to access to other services.\"https://incore-dev.ncsa.illinois.edu\"\n",
    "#client.clear_cache()"
   ]
  },
  {
   "cell_type": "code",
   "execution_count": 17,
   "metadata": {},
   "outputs": [],
   "source": [
    "# create data_service object for loading files\n",
    "data_service = DataService(client)"
   ]
  },
  {
   "cell_type": "markdown",
   "metadata": {},
   "source": [
    "### Set IN-CORE Dataservice IDS"
   ]
  },
  {
   "cell_type": "code",
   "execution_count": 3,
   "metadata": {},
   "outputs": [],
   "source": [
    "# Community Description Datasets\n",
    "# Load the Joplin building dataset\n",
    "bldg_dataset_id = \"5dbc8478b9219c06dd242c0d\" \n",
    "# Newton and Jasper County 2010 Housing Unit Inventory\n",
    "housing_unit_inv_id = \"5dfd1104fc33d500081556b6\"\n",
    "# Newton and Jasper County 2010 Address point inventory\n",
    "address_point_inv_id = \"5dbc6ba1b9219c06dd222bab\"\n",
    "# Newton and Jasper County Block Group Data\n",
    "bg_data = \"5d4c9545b9219c0689b2358a\"\n",
    "\n",
    "# Hazard Datasets\n",
    "hazard_type = \"tornado\"\n",
    "# Joplin 2011 Tornado Path\n",
    "hazard_id = \"5d07cbeab9219c065b080930\" \n",
    "# Create a mapping to assign tornado fragilities to 19 building archetypes.\n",
    "mapping_id = \"5e4ca44f9e2c59000178984d\"\n",
    "# Bae et al 2009 Value Loss Beta Distributions by Damage Level\n",
    "value_loss = \"60354810e379f22e16560dbd\""
   ]
  },
  {
   "cell_type": "markdown",
   "metadata": {},
   "source": [
    "## Set up Housing Unit Allocation Loop"
   ]
  },
  {
   "cell_type": "code",
   "execution_count": 4,
   "metadata": {},
   "outputs": [],
   "source": [
    "hua_output_path = os.path.join(os.getcwd(), 'housingunitallocation')\n",
    "if not os.path.exists(hua_output_path):\n",
    "    os.makedirs(hua_output_path)"
   ]
  },
  {
   "cell_type": "code",
   "execution_count": 5,
   "metadata": {},
   "outputs": [
    {
     "name": "stdout",
     "output_type": "stream",
     "text": [
      "Dataset already exists locally. Reading from local cached zip.\n",
      "Unzipped folder found in the local cache. Reading from it...\n",
      "Dataset already exists locally. Reading from local cached zip.\n",
      "Unzipped folder found in the local cache. Reading from it...\n",
      "Dataset already exists locally. Reading from local cached zip.\n",
      "Unzipped folder found in the local cache. Reading from it...\n"
     ]
    }
   ],
   "source": [
    "from pyincore.analyses.housingunitallocation import HousingUnitAllocation\n",
    "\n",
    "# Create housing allocation \n",
    "hua = HousingUnitAllocation(client)\n",
    "\n",
    "# Load static input dataset\n",
    "hua.load_remote_input_dataset(\"housing_unit_inventory\", housing_unit_inv_id)\n",
    "hua.load_remote_input_dataset(\"address_point_inventory\", address_point_inv_id)\n",
    "hua.load_remote_input_dataset(\"buildings\", bldg_dataset_id)"
   ]
  },
  {
   "cell_type": "markdown",
   "metadata": {},
   "source": [
    "#### Save Housing Unit Inventory as Dataframe for Output of loop\n",
    "The loop will produce population impact results by housing unit id - the resutls will be added to the housing unit inventory."
   ]
  },
  {
   "cell_type": "code",
   "execution_count": 18,
   "metadata": {},
   "outputs": [
    {
     "name": "stdout",
     "output_type": "stream",
     "text": [
      "Dataset already exists locally. Reading from local cached zip.\n",
      "Unzipped folder found in the local cache. Reading from it...\n",
      "The IN-CORE Dataservice has saved the Housing Unit Inventory on your local machine: C:\\Users\\nathanael99\\.incore\\cache_data\\5dfd1104fc33d500081556b6\\IN-CORE_2ev3_SetupJoplin_FourInventories_2019-08-06_HUinventory\\IN-CORE_2ev3_SetupJoplin_FourInventories_2019-08-06_HUinventory.csv\n"
     ]
    },
    {
     "data": {
      "text/html": [
       "<div>\n",
       "<style scoped>\n",
       "    .dataframe tbody tr th:only-of-type {\n",
       "        vertical-align: middle;\n",
       "    }\n",
       "\n",
       "    .dataframe tbody tr th {\n",
       "        vertical-align: top;\n",
       "    }\n",
       "\n",
       "    .dataframe thead th {\n",
       "        text-align: right;\n",
       "    }\n",
       "</style>\n",
       "<table border=\"1\" class=\"dataframe\">\n",
       "  <thead>\n",
       "    <tr style=\"text-align: right;\">\n",
       "      <th></th>\n",
       "      <th>huid</th>\n",
       "      <th>blockid</th>\n",
       "      <th>tractid</th>\n",
       "      <th>bgid</th>\n",
       "      <th>FIPScounty</th>\n",
       "      <th>serialno</th>\n",
       "      <th>livetype</th>\n",
       "      <th>numprec</th>\n",
       "      <th>gqpop</th>\n",
       "      <th>ownershp</th>\n",
       "      <th>race</th>\n",
       "      <th>hispan</th>\n",
       "      <th>hispan_flag</th>\n",
       "      <th>vacancy</th>\n",
       "      <th>gqtype</th>\n",
       "      <th>hhinc</th>\n",
       "    </tr>\n",
       "  </thead>\n",
       "  <tbody>\n",
       "    <tr>\n",
       "      <th>0</th>\n",
       "      <td>B290970101001000H001</td>\n",
       "      <td>290970101001000</td>\n",
       "      <td>29097010100</td>\n",
       "      <td>290970101001</td>\n",
       "      <td>29097</td>\n",
       "      <td>1</td>\n",
       "      <td>H</td>\n",
       "      <td>3</td>\n",
       "      <td>0</td>\n",
       "      <td>1.0</td>\n",
       "      <td>1.0</td>\n",
       "      <td>0.0</td>\n",
       "      <td>1.0</td>\n",
       "      <td>0</td>\n",
       "      <td>0</td>\n",
       "      <td>3.0</td>\n",
       "    </tr>\n",
       "    <tr>\n",
       "      <th>1</th>\n",
       "      <td>B290970101001000H002</td>\n",
       "      <td>290970101001000</td>\n",
       "      <td>29097010100</td>\n",
       "      <td>290970101001</td>\n",
       "      <td>29097</td>\n",
       "      <td>2</td>\n",
       "      <td>H</td>\n",
       "      <td>1</td>\n",
       "      <td>0</td>\n",
       "      <td>2.0</td>\n",
       "      <td>1.0</td>\n",
       "      <td>0.0</td>\n",
       "      <td>1.0</td>\n",
       "      <td>0</td>\n",
       "      <td>0</td>\n",
       "      <td>2.0</td>\n",
       "    </tr>\n",
       "    <tr>\n",
       "      <th>2</th>\n",
       "      <td>B290970101001000H003</td>\n",
       "      <td>290970101001000</td>\n",
       "      <td>29097010100</td>\n",
       "      <td>290970101001</td>\n",
       "      <td>29097</td>\n",
       "      <td>3</td>\n",
       "      <td>H</td>\n",
       "      <td>1</td>\n",
       "      <td>0</td>\n",
       "      <td>1.0</td>\n",
       "      <td>1.0</td>\n",
       "      <td>0.0</td>\n",
       "      <td>1.0</td>\n",
       "      <td>0</td>\n",
       "      <td>0</td>\n",
       "      <td>3.0</td>\n",
       "    </tr>\n",
       "    <tr>\n",
       "      <th>3</th>\n",
       "      <td>B290970101001001H001</td>\n",
       "      <td>290970101001001</td>\n",
       "      <td>29097010100</td>\n",
       "      <td>290970101001</td>\n",
       "      <td>29097</td>\n",
       "      <td>1</td>\n",
       "      <td>H</td>\n",
       "      <td>1</td>\n",
       "      <td>0</td>\n",
       "      <td>1.0</td>\n",
       "      <td>1.0</td>\n",
       "      <td>0.0</td>\n",
       "      <td>1.0</td>\n",
       "      <td>0</td>\n",
       "      <td>0</td>\n",
       "      <td>2.0</td>\n",
       "    </tr>\n",
       "    <tr>\n",
       "      <th>4</th>\n",
       "      <td>B290970101001002H001</td>\n",
       "      <td>290970101001002</td>\n",
       "      <td>29097010100</td>\n",
       "      <td>290970101001</td>\n",
       "      <td>29097</td>\n",
       "      <td>1</td>\n",
       "      <td>H</td>\n",
       "      <td>6</td>\n",
       "      <td>0</td>\n",
       "      <td>2.0</td>\n",
       "      <td>1.0</td>\n",
       "      <td>0.0</td>\n",
       "      <td>1.0</td>\n",
       "      <td>0</td>\n",
       "      <td>0</td>\n",
       "      <td>3.0</td>\n",
       "    </tr>\n",
       "  </tbody>\n",
       "</table>\n",
       "</div>"
      ],
      "text/plain": [
       "                   huid          blockid      tractid          bgid  \\\n",
       "0  B290970101001000H001  290970101001000  29097010100  290970101001   \n",
       "1  B290970101001000H002  290970101001000  29097010100  290970101001   \n",
       "2  B290970101001000H003  290970101001000  29097010100  290970101001   \n",
       "3  B290970101001001H001  290970101001001  29097010100  290970101001   \n",
       "4  B290970101001002H001  290970101001002  29097010100  290970101001   \n",
       "\n",
       "   FIPScounty  serialno livetype  numprec  gqpop  ownershp  race  hispan  \\\n",
       "0       29097         1        H        3      0       1.0   1.0     0.0   \n",
       "1       29097         2        H        1      0       2.0   1.0     0.0   \n",
       "2       29097         3        H        1      0       1.0   1.0     0.0   \n",
       "3       29097         1        H        1      0       1.0   1.0     0.0   \n",
       "4       29097         1        H        6      0       2.0   1.0     0.0   \n",
       "\n",
       "   hispan_flag  vacancy  gqtype  hhinc  \n",
       "0          1.0        0       0    3.0  \n",
       "1          1.0        0       0    2.0  \n",
       "2          1.0        0       0    3.0  \n",
       "3          1.0        0       0    2.0  \n",
       "4          1.0        0       0    3.0  "
      ]
     },
     "execution_count": 18,
     "metadata": {},
     "output_type": "execute_result"
    }
   ],
   "source": [
    "# load housing unit inventory as pandas dataframe\n",
    "housing_unit_inv = Dataset.from_data_service(housing_unit_inv_id, data_service)\n",
    "filename = housing_unit_inv.get_file_path('csv')\n",
    "print(\"The IN-CORE Dataservice has saved the Housing Unit Inventory on your local machine: \"+filename)\n",
    "\n",
    "housing_unit_inv_df = pd.read_csv(filename, header=\"infer\")\n",
    "housing_unit_inv_df.head()"
   ]
  },
  {
   "cell_type": "markdown",
   "metadata": {},
   "source": [
    "## Set up Building Damage Loop"
   ]
  },
  {
   "cell_type": "code",
   "execution_count": 6,
   "id": "7cba3492",
   "metadata": {},
   "outputs": [],
   "source": [
    "bldg_damage_output_path = os.path.join(os.getcwd(), 'building damage')\n",
    "if not os.path.exists(bldg_damage_output_path):\n",
    "    os.makedirs(bldg_damage_output_path)"
   ]
  },
  {
   "cell_type": "code",
   "execution_count": 7,
   "id": "d69187c7",
   "metadata": {},
   "outputs": [
    {
     "name": "stdout",
     "output_type": "stream",
     "text": [
      "Dataset already exists locally. Reading from local cached zip.\n",
      "Unzipped folder found in the local cache. Reading from it...\n"
     ]
    },
    {
     "data": {
      "text/plain": [
       "True"
      ]
     },
     "execution_count": 7,
     "metadata": {},
     "output_type": "execute_result"
    }
   ],
   "source": [
    "from pyincore import FragilityService, MappingSet, Dataset, DataService\n",
    "from pyincore.models.fragilitycurveset import FragilityCurveSet\n",
    "from pyincore.analyses.buildingdamage import BuildingDamage\n",
    "\n",
    "fragility_service = FragilityService(client)  # loading fragility mapping\n",
    "mapping_set = MappingSet(fragility_service.get_mapping(mapping_id))\n",
    "\n",
    "# Create building damage analysis\n",
    "bldg_dmg = BuildingDamage(client)\n",
    "\n",
    "building_inv = bldg_dmg.load_remote_input_dataset(\"buildings\", bldg_dataset_id)\n",
    "bldg_dmg.set_input_dataset(\"dfr3_mapping_set\", mapping_set)\n",
    "\n",
    "# Load static analysis input datasets\n",
    "bldg_dmg.set_parameter(\"hazard_type\", hazard_type)\n",
    "bldg_dmg.set_parameter(\"hazard_id\", hazard_id)\n",
    "bldg_dmg.set_parameter(\"num_cpu\", 4)  # Define the result name, etc., and choose the number of CPU locally\n",
    "                                # to run the model parallelly."
   ]
  },
  {
   "cell_type": "markdown",
   "metadata": {},
   "source": [
    "## Set up Population Dislocation Loop"
   ]
  },
  {
   "cell_type": "code",
   "execution_count": 8,
   "id": "8361b298",
   "metadata": {},
   "outputs": [],
   "source": [
    "popdis_output_path = os.path.join(os.getcwd(), 'population dislocation')\n",
    "if not os.path.exists(popdis_output_path):\n",
    "    os.makedirs(popdis_output_path)"
   ]
  },
  {
   "cell_type": "code",
   "execution_count": 9,
   "metadata": {},
   "outputs": [
    {
     "name": "stdout",
     "output_type": "stream",
     "text": [
      "Dataset already exists locally. Reading from local cached zip.\n",
      "Unzipped folder found in the local cache. Reading from it...\n",
      "Dataset already exists locally. Reading from local cached zip.\n",
      "Unzipped folder found in the local cache. Reading from it...\n"
     ]
    }
   ],
   "source": [
    "from pyincore.analyses.populationdislocation import PopulationDislocation, PopulationDislocationUtil\n",
    "\n",
    "# Create Population dislocation analysis\n",
    "pop_dis = PopulationDislocation(client)\n",
    "\n",
    "# Load static analysis input datasets\n",
    "pop_dis.load_remote_input_dataset(\"block_group_data\", bg_data)\n",
    "pop_dis.load_remote_input_dataset(\"value_poss_param\", value_loss)"
   ]
  },
  {
   "cell_type": "markdown",
   "metadata": {},
   "source": [
    "## Loop for Analysis"
   ]
  },
  {
   "cell_type": "code",
   "execution_count": 20,
   "id": "fee0cce2",
   "metadata": {},
   "outputs": [
    {
     "name": "stdout",
     "output_type": "stream",
     "text": [
      "Community Description Loop 1 Housing unit and household characteristics allocated to building inventory.\n",
      "Hazard Loop 1 Buildings damaged by tornado\n",
      "Population impact Loop 1 Population Dislocated\n",
      "dislocated_1_1_1\n"
     ]
    },
    {
     "name": "stderr",
     "output_type": "stream",
     "text": [
      "C:\\Users\\nathanael99\\Miniconda3\\envs\\pyincoreEnv20210802\\lib\\site-packages\\pandas\\core\\indexing.py:1667: SettingWithCopyWarning: \n",
      "A value is trying to be set on a copy of a slice from a DataFrame.\n",
      "Try using .loc[row_indexer,col_indexer] = value instead\n",
      "\n",
      "See the caveats in the documentation: https://pandas.pydata.org/pandas-docs/stable/user_guide/indexing.html#returning-a-view-versus-a-copy\n",
      "  self.obj[key] = value\n"
     ]
    },
    {
     "name": "stdout",
     "output_type": "stream",
     "text": [
      "Population impact Loop 2 Population Dislocated\n",
      "dislocated_1_1_2\n"
     ]
    },
    {
     "name": "stderr",
     "output_type": "stream",
     "text": [
      "C:\\Users\\nathanael99\\Miniconda3\\envs\\pyincoreEnv20210802\\lib\\site-packages\\pandas\\core\\indexing.py:1667: SettingWithCopyWarning: \n",
      "A value is trying to be set on a copy of a slice from a DataFrame.\n",
      "Try using .loc[row_indexer,col_indexer] = value instead\n",
      "\n",
      "See the caveats in the documentation: https://pandas.pydata.org/pandas-docs/stable/user_guide/indexing.html#returning-a-view-versus-a-copy\n",
      "  self.obj[key] = value\n"
     ]
    },
    {
     "name": "stdout",
     "output_type": "stream",
     "text": [
      "Hazard Loop 2 Buildings damaged by tornado\n",
      "Population impact Loop 1 Population Dislocated\n",
      "dislocated_1_2_1\n"
     ]
    },
    {
     "name": "stderr",
     "output_type": "stream",
     "text": [
      "C:\\Users\\nathanael99\\Miniconda3\\envs\\pyincoreEnv20210802\\lib\\site-packages\\pandas\\core\\indexing.py:1667: SettingWithCopyWarning: \n",
      "A value is trying to be set on a copy of a slice from a DataFrame.\n",
      "Try using .loc[row_indexer,col_indexer] = value instead\n",
      "\n",
      "See the caveats in the documentation: https://pandas.pydata.org/pandas-docs/stable/user_guide/indexing.html#returning-a-view-versus-a-copy\n",
      "  self.obj[key] = value\n"
     ]
    },
    {
     "name": "stdout",
     "output_type": "stream",
     "text": [
      "Population impact Loop 2 Population Dislocated\n",
      "dislocated_1_2_2\n"
     ]
    },
    {
     "name": "stderr",
     "output_type": "stream",
     "text": [
      "C:\\Users\\nathanael99\\Miniconda3\\envs\\pyincoreEnv20210802\\lib\\site-packages\\pandas\\core\\indexing.py:1667: SettingWithCopyWarning: \n",
      "A value is trying to be set on a copy of a slice from a DataFrame.\n",
      "Try using .loc[row_indexer,col_indexer] = value instead\n",
      "\n",
      "See the caveats in the documentation: https://pandas.pydata.org/pandas-docs/stable/user_guide/indexing.html#returning-a-view-versus-a-copy\n",
      "  self.obj[key] = value\n"
     ]
    }
   ],
   "source": [
    "# Set output dataframe\n",
    "pop_dislocation_by_huid = pd.DataFrame()\n",
    "\n",
    "# Outer loop housing unit allocation for community description\n",
    "for commmunity_description_loop in range(1,2):\n",
    "    seed = 1238 + commmunity_description_loop\n",
    "    iterations = 1\n",
    "\n",
    "    # Set analysis parameters\n",
    "    result_name = os.path.join(hua_output_path, 'Joplin_hua_result_{}'.format(commmunity_description_loop))\n",
    "\n",
    "    hua.set_parameter(\"result_name\", result_name)\n",
    "    hua.set_parameter(\"seed\", seed)\n",
    "    hua.set_parameter(\"iterations\", iterations)\n",
    "    # Run Housing unit allocation analysis\n",
    "    hua.run_analysis()\n",
    "\n",
    "    # Retrieve result dataset\n",
    "    hua_result = hua.get_output_dataset(\"result\")\n",
    "\n",
    "    print(\"Community Description Loop\",commmunity_description_loop,\"Housing unit and household characteristics allocated to building inventory.\")\n",
    "\n",
    "    # Run Building Damage Loop\n",
    "    for haz_loop in range(1,3):\n",
    "        result_name = os.path.join(bldg_damage_output_path, 'Joplin_bldg_dmg_result_{}'.format(haz_loop))\n",
    "        bldg_dmg.set_parameter(\"result_name\", result_name)\n",
    "        bldg_dmg.run_analysis() \n",
    "\n",
    "        # Retrieve result dataset\n",
    "        building_dmg_result = bldg_dmg.get_output_dataset('ds_result') \n",
    "\n",
    "        print(\"Hazard Loop\",haz_loop,\"Buildings damaged by\",hazard_type)\n",
    "\n",
    "        # Run population dislocation loop\n",
    "        for popdis_loop in range(1,3):\n",
    "            seed = 1111+popdis_loop\n",
    "\n",
    "            # Set population dislocation parameters that change thourgh the loop\n",
    "            result_name = os.path.join(popdis_output_path, 'pop-dislocation-results_{}'.format(popdis_loop))\n",
    "            pop_dis.set_parameter(\"result_name\", result_name)\n",
    "            pop_dis.set_parameter(\"seed\", seed)\n",
    "            pop_dis.set_input_dataset(\"building_dmg\", building_dmg_result)\n",
    "            pop_dis.set_input_dataset(\"housing_unit_allocation\", hua_result)\n",
    "            pop_dis.run_analysis()\n",
    "\n",
    "            # Retrieve result dataset\n",
    "            result = pop_dis.get_output_dataset(\"result\")\n",
    "\n",
    "            print(\"Population impact Loop\",popdis_loop,\"Population Dislocated\")\n",
    "\n",
    "            # Convert dataset to Pandas DataFrame\n",
    "            pd_df = result.get_dataframe_from_csv(low_memory=False)\n",
    "\n",
    "            # Keep observations were guid and huid are not missing\n",
    "            dislocation = pd_df.loc[(pd_df['guid'].notnull()) & (pd_df['huid'].notna())]\n",
    "            scenario_variable = f'dislocated_{commmunity_description_loop}_{haz_loop}_{popdis_loop}'\n",
    "            print(scenario_variable)\n",
    "            dislocation.loc[:,scenario_variable] = dislocation['dislocated']\n",
    "\n",
    "            # Merge scenario results with housing unit invenotry\n",
    "            housing_unit_inv_df = pd.merge(left = housing_unit_inv_df,\n",
    "                                            right = dislocation[['huid',scenario_variable]],\n",
    "                                            left_on = 'huid',\n",
    "                                            right_on = 'huid',\n",
    "                                            how = 'outer')"
   ]
  },
  {
   "cell_type": "markdown",
   "metadata": {},
   "source": [
    "## Explore Scenarios for Population Dislocation"
   ]
  },
  {
   "cell_type": "code",
   "execution_count": 21,
   "metadata": {},
   "outputs": [
    {
     "data": {
      "text/html": [
       "<div>\n",
       "<style scoped>\n",
       "    .dataframe tbody tr th:only-of-type {\n",
       "        vertical-align: middle;\n",
       "    }\n",
       "\n",
       "    .dataframe tbody tr th {\n",
       "        vertical-align: top;\n",
       "    }\n",
       "\n",
       "    .dataframe thead th {\n",
       "        text-align: right;\n",
       "    }\n",
       "</style>\n",
       "<table border=\"1\" class=\"dataframe\">\n",
       "  <thead>\n",
       "    <tr style=\"text-align: right;\">\n",
       "      <th></th>\n",
       "      <th>huid</th>\n",
       "      <th>blockid</th>\n",
       "      <th>tractid</th>\n",
       "      <th>bgid</th>\n",
       "      <th>FIPScounty</th>\n",
       "      <th>serialno</th>\n",
       "      <th>livetype</th>\n",
       "      <th>numprec</th>\n",
       "      <th>gqpop</th>\n",
       "      <th>ownershp</th>\n",
       "      <th>race</th>\n",
       "      <th>hispan</th>\n",
       "      <th>hispan_flag</th>\n",
       "      <th>vacancy</th>\n",
       "      <th>gqtype</th>\n",
       "      <th>hhinc</th>\n",
       "      <th>dislocated_1_1_1</th>\n",
       "      <th>dislocated_1_1_2</th>\n",
       "      <th>dislocated_1_2_1</th>\n",
       "      <th>dislocated_1_2_2</th>\n",
       "    </tr>\n",
       "  </thead>\n",
       "  <tbody>\n",
       "    <tr>\n",
       "      <th>0</th>\n",
       "      <td>B290970101001000H001</td>\n",
       "      <td>290970101001000</td>\n",
       "      <td>29097010100</td>\n",
       "      <td>290970101001</td>\n",
       "      <td>29097</td>\n",
       "      <td>1</td>\n",
       "      <td>H</td>\n",
       "      <td>3</td>\n",
       "      <td>0</td>\n",
       "      <td>1.0</td>\n",
       "      <td>1.0</td>\n",
       "      <td>0.0</td>\n",
       "      <td>1.0</td>\n",
       "      <td>0</td>\n",
       "      <td>0</td>\n",
       "      <td>3.0</td>\n",
       "      <td>False</td>\n",
       "      <td>False</td>\n",
       "      <td>False</td>\n",
       "      <td>False</td>\n",
       "    </tr>\n",
       "    <tr>\n",
       "      <th>1</th>\n",
       "      <td>B290970101001000H002</td>\n",
       "      <td>290970101001000</td>\n",
       "      <td>29097010100</td>\n",
       "      <td>290970101001</td>\n",
       "      <td>29097</td>\n",
       "      <td>2</td>\n",
       "      <td>H</td>\n",
       "      <td>1</td>\n",
       "      <td>0</td>\n",
       "      <td>2.0</td>\n",
       "      <td>1.0</td>\n",
       "      <td>0.0</td>\n",
       "      <td>1.0</td>\n",
       "      <td>0</td>\n",
       "      <td>0</td>\n",
       "      <td>2.0</td>\n",
       "      <td>False</td>\n",
       "      <td>False</td>\n",
       "      <td>False</td>\n",
       "      <td>False</td>\n",
       "    </tr>\n",
       "    <tr>\n",
       "      <th>2</th>\n",
       "      <td>B290970101001000H003</td>\n",
       "      <td>290970101001000</td>\n",
       "      <td>29097010100</td>\n",
       "      <td>290970101001</td>\n",
       "      <td>29097</td>\n",
       "      <td>3</td>\n",
       "      <td>H</td>\n",
       "      <td>1</td>\n",
       "      <td>0</td>\n",
       "      <td>1.0</td>\n",
       "      <td>1.0</td>\n",
       "      <td>0.0</td>\n",
       "      <td>1.0</td>\n",
       "      <td>0</td>\n",
       "      <td>0</td>\n",
       "      <td>3.0</td>\n",
       "      <td>False</td>\n",
       "      <td>False</td>\n",
       "      <td>False</td>\n",
       "      <td>False</td>\n",
       "    </tr>\n",
       "    <tr>\n",
       "      <th>3</th>\n",
       "      <td>B290970101001001H001</td>\n",
       "      <td>290970101001001</td>\n",
       "      <td>29097010100</td>\n",
       "      <td>290970101001</td>\n",
       "      <td>29097</td>\n",
       "      <td>1</td>\n",
       "      <td>H</td>\n",
       "      <td>1</td>\n",
       "      <td>0</td>\n",
       "      <td>1.0</td>\n",
       "      <td>1.0</td>\n",
       "      <td>0.0</td>\n",
       "      <td>1.0</td>\n",
       "      <td>0</td>\n",
       "      <td>0</td>\n",
       "      <td>2.0</td>\n",
       "      <td>False</td>\n",
       "      <td>False</td>\n",
       "      <td>False</td>\n",
       "      <td>False</td>\n",
       "    </tr>\n",
       "    <tr>\n",
       "      <th>4</th>\n",
       "      <td>B290970101001002H001</td>\n",
       "      <td>290970101001002</td>\n",
       "      <td>29097010100</td>\n",
       "      <td>290970101001</td>\n",
       "      <td>29097</td>\n",
       "      <td>1</td>\n",
       "      <td>H</td>\n",
       "      <td>6</td>\n",
       "      <td>0</td>\n",
       "      <td>2.0</td>\n",
       "      <td>1.0</td>\n",
       "      <td>0.0</td>\n",
       "      <td>1.0</td>\n",
       "      <td>0</td>\n",
       "      <td>0</td>\n",
       "      <td>3.0</td>\n",
       "      <td>False</td>\n",
       "      <td>False</td>\n",
       "      <td>False</td>\n",
       "      <td>False</td>\n",
       "    </tr>\n",
       "  </tbody>\n",
       "</table>\n",
       "</div>"
      ],
      "text/plain": [
       "                   huid          blockid      tractid          bgid  \\\n",
       "0  B290970101001000H001  290970101001000  29097010100  290970101001   \n",
       "1  B290970101001000H002  290970101001000  29097010100  290970101001   \n",
       "2  B290970101001000H003  290970101001000  29097010100  290970101001   \n",
       "3  B290970101001001H001  290970101001001  29097010100  290970101001   \n",
       "4  B290970101001002H001  290970101001002  29097010100  290970101001   \n",
       "\n",
       "   FIPScounty  serialno livetype  numprec  gqpop  ownershp  race  hispan  \\\n",
       "0       29097         1        H        3      0       1.0   1.0     0.0   \n",
       "1       29097         2        H        1      0       2.0   1.0     0.0   \n",
       "2       29097         3        H        1      0       1.0   1.0     0.0   \n",
       "3       29097         1        H        1      0       1.0   1.0     0.0   \n",
       "4       29097         1        H        6      0       2.0   1.0     0.0   \n",
       "\n",
       "   hispan_flag  vacancy  gqtype  hhinc dislocated_1_1_1 dislocated_1_1_2  \\\n",
       "0          1.0        0       0    3.0            False            False   \n",
       "1          1.0        0       0    2.0            False            False   \n",
       "2          1.0        0       0    3.0            False            False   \n",
       "3          1.0        0       0    2.0            False            False   \n",
       "4          1.0        0       0    3.0            False            False   \n",
       "\n",
       "  dislocated_1_2_1 dislocated_1_2_2  \n",
       "0            False            False  \n",
       "1            False            False  \n",
       "2            False            False  \n",
       "3            False            False  \n",
       "4            False            False  "
      ]
     },
     "execution_count": 21,
     "metadata": {},
     "output_type": "execute_result"
    }
   ],
   "source": [
    "housing_unit_inv_df.head()"
   ]
  },
  {
   "cell_type": "code",
   "execution_count": 26,
   "metadata": {},
   "outputs": [
    {
     "data": {
      "text/plain": [
       "count                    75035\n",
       "unique                   75035\n",
       "top       B290970101001000H001\n",
       "freq                         1\n",
       "Name: huid, dtype: object"
      ]
     },
     "execution_count": 26,
     "metadata": {},
     "output_type": "execute_result"
    }
   ],
   "source": [
    "housing_unit_inv_df['huid'].describe()"
   ]
  },
  {
   "cell_type": "code",
   "execution_count": 25,
   "metadata": {},
   "outputs": [
    {
     "data": {
      "text/plain": [
       "count    26066.000000\n",
       "mean         0.237474\n",
       "std          0.425543\n",
       "min          0.000000\n",
       "25%          0.000000\n",
       "50%          0.000000\n",
       "75%          0.000000\n",
       "max          1.000000\n",
       "Name: dislocated_1_2_2, dtype: float64"
      ]
     },
     "execution_count": 25,
     "metadata": {},
     "output_type": "execute_result"
    }
   ],
   "source": [
    "housing_unit_inv_df['dislocated_1_2_2'].astype(float).describe()"
   ]
  },
  {
   "cell_type": "code",
   "execution_count": 61,
   "metadata": {},
   "outputs": [
    {
     "data": {
      "text/plain": [
       "['dislocated_1_1_1',\n",
       " 'dislocated_1_1_2',\n",
       " 'dislocated_1_2_1',\n",
       " 'dislocated_1_2_2']"
      ]
     },
     "execution_count": 61,
     "metadata": {},
     "output_type": "execute_result"
    }
   ],
   "source": [
    "# Loop over scenario variables\n",
    "scenario_variables = [col for col in housing_unit_inv_df if col.startswith('dislocated_')]\n",
    "scenario_variables"
   ]
  },
  {
   "cell_type": "code",
   "execution_count": 65,
   "metadata": {},
   "outputs": [
    {
     "data": {
      "text/html": [
       "<div>\n",
       "<style scoped>\n",
       "    .dataframe tbody tr th:only-of-type {\n",
       "        vertical-align: middle;\n",
       "    }\n",
       "\n",
       "    .dataframe tbody tr th {\n",
       "        vertical-align: top;\n",
       "    }\n",
       "\n",
       "    .dataframe thead tr th {\n",
       "        text-align: left;\n",
       "    }\n",
       "</style>\n",
       "<table border=\"1\" class=\"dataframe\">\n",
       "  <thead>\n",
       "    <tr>\n",
       "      <th></th>\n",
       "      <th colspan=\"2\" halign=\"left\">False</th>\n",
       "      <th colspan=\"2\" halign=\"left\">True</th>\n",
       "      <th>scenario</th>\n",
       "    </tr>\n",
       "    <tr>\n",
       "      <th>ownershp</th>\n",
       "      <th>1.0</th>\n",
       "      <th>2.0</th>\n",
       "      <th>1.0</th>\n",
       "      <th>2.0</th>\n",
       "      <th></th>\n",
       "    </tr>\n",
       "  </thead>\n",
       "  <tbody>\n",
       "    <tr>\n",
       "      <th>numprec</th>\n",
       "      <td>23924</td>\n",
       "      <td>17225</td>\n",
       "      <td>7187</td>\n",
       "      <td>5743</td>\n",
       "      <td>dislocated_1_1_1</td>\n",
       "    </tr>\n",
       "    <tr>\n",
       "      <th>numprec</th>\n",
       "      <td>23860</td>\n",
       "      <td>17282</td>\n",
       "      <td>7251</td>\n",
       "      <td>5686</td>\n",
       "      <td>dislocated_1_1_2</td>\n",
       "    </tr>\n",
       "    <tr>\n",
       "      <th>numprec</th>\n",
       "      <td>23913</td>\n",
       "      <td>17219</td>\n",
       "      <td>7198</td>\n",
       "      <td>5749</td>\n",
       "      <td>dislocated_1_2_1</td>\n",
       "    </tr>\n",
       "    <tr>\n",
       "      <th>numprec</th>\n",
       "      <td>23827</td>\n",
       "      <td>17286</td>\n",
       "      <td>7284</td>\n",
       "      <td>5682</td>\n",
       "      <td>dislocated_1_2_2</td>\n",
       "    </tr>\n",
       "  </tbody>\n",
       "</table>\n",
       "</div>"
      ],
      "text/plain": [
       "          False         True                scenario\n",
       "ownershp    1.0    2.0   1.0   2.0                  \n",
       "numprec   23924  17225  7187  5743  dislocated_1_1_1\n",
       "numprec   23860  17282  7251  5686  dislocated_1_1_2\n",
       "numprec   23913  17219  7198  5749  dislocated_1_2_1\n",
       "numprec   23827  17286  7284  5682  dislocated_1_2_2"
      ]
     },
     "execution_count": 65,
     "metadata": {},
     "output_type": "execute_result"
    }
   ],
   "source": [
    "scenarios = []\n",
    "for scenario_variable in scenario_variables:\n",
    "    scenario = pd.pivot_table(housing_unit_inv_df, values='numprec', index=[],\n",
    "                                        columns=[scenario_variable,'ownershp'], aggfunc=np.sum)\n",
    "    scenario['scenario'] = scenario_variable\n",
    "    scenarios.append(scenario)\n",
    "\n",
    "scenarios_df = pd.concat(scenarios)\n",
    "scenarios_df"
   ]
  },
  {
   "cell_type": "markdown",
   "metadata": {},
   "source": [
    "## Explore one of the population dislocation results"
   ]
  },
  {
   "cell_type": "code",
   "execution_count": 27,
   "metadata": {},
   "outputs": [
    {
     "name": "stderr",
     "output_type": "stream",
     "text": [
      "C:\\Users\\nathanael99\\Miniconda3\\envs\\pyincoreEnv20210802\\lib\\site-packages\\IPython\\core\\interactiveshell.py:3441: DtypeWarning: Columns (0,5,16,30,49,52,57,70) have mixed types.Specify dtype option on import or set low_memory=False.\n",
      "  exec(code_obj, self.user_global_ns, self.user_ns)\n"
     ]
    }
   ],
   "source": [
    "loop = 1\n",
    "popdis_highstd = pd.read_csv('population dislocation/pop-dislocation-results_{}.csv'.format(loop))"
   ]
  },
  {
   "cell_type": "code",
   "execution_count": 28,
   "metadata": {},
   "outputs": [
    {
     "data": {
      "image/png": "[encoded data removed]",
      "text/plain": [
       "<Figure size 432x288 with 1 Axes>"
      ]
     },
     "metadata": {
      "needs_background": "light"
     },
     "output_type": "display_data"
    }
   ],
   "source": [
    "import matplotlib.pyplot as plt\n",
    "\n",
    "# Scatter Plot\n",
    "colors = {True:'red', False:'green'}\n",
    "colors = {0 : 'blue', 1 : 'yellow'}\n",
    "plt.scatter(popdis_highstd['DS_3'], \n",
    "            popdis_highstd['prdis'], \n",
    "            c=popdis_highstd['d_sf'].map(colors))\n",
    "plt.title('Scatter plot probability DS 3 vs Probability of Dislocation')\n",
    "plt.xlabel('Probability of DS 3')\n",
    "plt.ylabel('Probability of Dislocation')\n",
    "plt.show()"
   ]
  },
  {
   "cell_type": "code",
   "execution_count": 29,
   "metadata": {},
   "outputs": [
    {
     "data": {
      "image/png": "[encoded data removed]",
      "text/plain": [
       "<Figure size 432x288 with 1 Axes>"
      ]
     },
     "metadata": {
      "needs_background": "light"
     },
     "output_type": "display_data"
    }
   ],
   "source": [
    "import matplotlib.pyplot as plt\n",
    "\n",
    "# Scatter Plot\n",
    "colors = {True:'red', False:'green'}\n",
    "colors = {0 : 'blue', 1 : 'yellow'}\n",
    "plt.scatter(popdis_highstd['DS_0'], \n",
    "            popdis_highstd['prdis'], \n",
    "            c=popdis_highstd['d_sf'].map(colors))\n",
    "plt.title('Scatter plot probability DS 0 vs Probability of Dislocation')\n",
    "plt.xlabel('Probability of DS 0')\n",
    "plt.ylabel('Probability of Dislocation')\n",
    "plt.show()"
   ]
  },
  {
   "cell_type": "code",
   "execution_count": 30,
   "metadata": {},
   "outputs": [
    {
     "name": "stdout",
     "output_type": "stream",
     "text": [
      "Dataset already exists locally. Reading from local cached zip.\n",
      "Unzipped folder found in the local cache. Reading from it...\n"
     ]
    },
    {
     "data": {
      "image/png": "[encoded data removed]",
      "text/plain": [
       "<Figure size 720x720 with 1 Axes>"
      ]
     },
     "metadata": {
      "needs_background": "light"
     },
     "output_type": "display_data"
    }
   ],
   "source": [
    "from pyincore_viz.geoutil import GeoUtil as viz\n",
    "viz.plot_tornado(hazard_id, client, basemap=True)"
   ]
  }
 ],
 "metadata": {
  "interpreter": {
   "hash": "5c58ce784293a07115a9dfc7f62fce3bb2b505f44554599caa745606e0faef66"
  },
  "kernelspec": {
   "display_name": "Python 3.7.10 64-bit ('pyincoreEnv20210802': conda)",
   "name": "python3"
  },
  "language_info": {
   "codemirror_mode": {
    "name": "ipython",
    "version": 3
   },
   "file_extension": ".py",
   "mimetype": "text/x-python",
   "name": "python",
   "nbconvert_exporter": "python",
   "pygments_lexer": "ipython3",
   "version": "3.7.10"
  }
 },
 "nbformat": 4,
 "nbformat_minor": 5
}
