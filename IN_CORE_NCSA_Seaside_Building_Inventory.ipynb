{
  "nbformat": 4,
  "nbformat_minor": 0,
  "metadata": {
    "colab": {
      "name": "IN-CORE_NCSA_Seaside_Building_Inventory.ipynb",
      "provenance": [],
      "collapsed_sections": [
        "ZPSnrm2igH7Z",
        "2ll64PmpgH7a",
        "c6bNHvxwgH7b"
      ],
      "include_colab_link": true
    },
    "kernelspec": {
      "display_name": "Python 3",
      "language": "python",
      "name": "python3"
    },
    "language_info": {
      "codemirror_mode": {
        "name": "ipython",
        "version": 3
      },
      "file_extension": ".py",
      "mimetype": "text/x-python",
      "name": "python",
      "nbconvert_exporter": "python",
      "pygments_lexer": "ipython3",
      "version": "3.7.10"
    }
  },
  "cells": [
    {
      "cell_type": "markdown",
      "metadata": {
        "id": "view-in-github",
        "colab_type": "text"
      },
      "source": [
        "<a href=\"https://colab.research.google.com/github/npr99/IN-CORE_notebooks/blob/main/IN_CORE_NCSA_Seaside_Building_Inventory.ipynb\" target=\"_parent\"><img src=\"https://colab.research.google.com/assets/colab-badge.svg\" alt=\"Open In Colab\"/></a>"
      ]
    },
    {
      "cell_type": "markdown",
      "metadata": {
        "id": "hbUZ51Z4gH7L"
      },
      "source": [
        "### Update Seaside Building Inventory\n",
        "The Seaside Building inventory needs to have the required attribute columns based on IN-CORE standards.\n",
        "\n",
        "The inventory needs to be in a shapefile format.\n",
        "\n",
        "The inventory needs to include the strcture id from the Address Point Invenotry for the Housing Unit Allocation algorithms.\n",
        "\n"
      ]
    },
    {
      "cell_type": "code",
      "metadata": {
        "id": "4-woWI0jgH7R"
      },
      "source": [
        "import pandas as pd   # Pandas for data frame manipulation\n",
        "import geopandas as gpd # For reading in shapefiles\n",
        "import numpy as np # For filling in missing values\n",
        "import sys # For displaying package versions\n",
        "import os # For managing directories and file paths if drive is mounted"
      ],
      "execution_count": null,
      "outputs": []
    },
    {
      "cell_type": "code",
      "metadata": {
        "id": "dK5QRguAHcGw",
        "outputId": "6fca51e1-ed91-41a7-96ad-8df559aa7978"
      },
      "source": [
        "from pyincore import IncoreClient, Dataset, FragilityService, MappingSet, DataService\n",
        "from pyincore.analyses.buildingdamage.buildingdamage import BuildingDamage\n",
        "\n",
        "from pyincore_viz.geoutil import GeoUtil as viz"
      ],
      "execution_count": null,
      "outputs": [
        {
          "output_type": "stream",
          "text": [
            "C:\\Users\\nathanael99\\AppData\\Roaming\\Python\\Python37\\site-packages\\requests\\__init__.py:91: RequestsDependencyWarning: urllib3 (1.26.3) or chardet (3.0.4) doesn't match a supported version!\n",
            "  RequestsDependencyWarning)\n"
          ],
          "name": "stderr"
        }
      ]
    },
    {
      "cell_type": "code",
      "metadata": {
        "id": "x0WbXOhHHcGy",
        "outputId": "d31d8145-0522-45bf-c33d-cecc419a229f"
      },
      "source": [
        "# Check package versions - good practice for replication\n",
        "print(\"Python Version \",sys.version)\n",
        "print(\"pandas version: \", pd.__version__)\n",
        "print(\"numpy version: \", np.__version__)"
      ],
      "execution_count": null,
      "outputs": [
        {
          "output_type": "stream",
          "text": [
            "Python Version  3.7.10 | packaged by conda-forge | (default, Feb 19 2021, 15:37:01) [MSC v.1916 64 bit (AMD64)]\n",
            "pandas version:  0.24.2\n",
            "numpy version:  1.20.1\n"
          ],
          "name": "stdout"
        }
      ]
    },
    {
      "cell_type": "code",
      "metadata": {
        "id": "9ep2Rq3AHcGy",
        "outputId": "c5eeef71-392a-4ddd-a2b1-999473b534b3"
      },
      "source": [
        "# Check working directory - good practice for relative path access\n",
        "os.getcwd()"
      ],
      "execution_count": null,
      "outputs": [
        {
          "output_type": "execute_result",
          "data": {
            "text/plain": [
              "'G:\\\\Shared drives\\\\HRRC_IN-CORE\\\\Tasks\\\\P4.9 Testebeds\\\\WorkNPR'"
            ]
          },
          "metadata": {
            "tags": []
          },
          "execution_count": 4
        }
      ]
    },
    {
      "cell_type": "code",
      "metadata": {
        "id": "WrBXVGtTHcGz",
        "outputId": "144417ae-3017-45de-dd71-ea7c18f364ce"
      },
      "source": [
        "client = IncoreClient()\n",
        "# IN-CORE chaches files on the local machine, it might be necessary to clear the memory\n",
        "#client.clear_cache()"
      ],
      "execution_count": null,
      "outputs": [
        {
          "output_type": "stream",
          "text": [
            "Enter username: natrose\n",
            "Enter password: ········\n",
            "Connection successful to IN-CORE services. pyIncore version detected: 0.9.0\n"
          ],
          "name": "stdout"
        }
      ]
    },
    {
      "cell_type": "code",
      "metadata": {
        "id": "T3uCaNxOHcGz"
      },
      "source": [
        "# create data_service object for loading files\n",
        "data_service = DataService(client)"
      ],
      "execution_count": null,
      "outputs": []
    },
    {
      "cell_type": "code",
      "metadata": {
        "id": "hBI0GyrDHcGz",
        "outputId": "30431647-aaae-47e9-ed50-dd31ffb28b3a"
      },
      "source": [
        "# Seaside BUilding Inventory Version 5\n",
        "bldg_inv_id = '5df40388b9219c06cf8b0c80'\n",
        "# load building inventory\n",
        "bldg_inv = Dataset.from_data_service(bldg_inv_id, data_service)\n",
        "filename = bldg_inv.get_file_path('shp')\n",
        "print(\"The IN-CORE Dataservice has saved the Building Inventory on your local machine: \"+filename)"
      ],
      "execution_count": null,
      "outputs": [
        {
          "output_type": "stream",
          "text": [
            "The IN-CORE Dataservice has saved the Building Inventory on your local machine: C:\\Users\\nathanael99\\.incore\\cache_data\\5df40388b9219c06cf8b0c80\\seaside_bldg\\seaside_bldg.shp\n"
          ],
          "name": "stdout"
        }
      ]
    },
    {
      "cell_type": "code",
      "metadata": {
        "id": "nT90pj8dHcG0",
        "outputId": "9703b311-6b48-4fcd-90e9-a8cda91bbf8a"
      },
      "source": [
        "gdf = bldg_inv.get_dataframe_from_shapefile()\n",
        "gdf.head()"
      ],
      "execution_count": null,
      "outputs": [
        {
          "output_type": "execute_result",
          "data": {
            "text/html": [
              "<div>\n",
              "<style scoped>\n",
              "    .dataframe tbody tr th:only-of-type {\n",
              "        vertical-align: middle;\n",
              "    }\n",
              "\n",
              "    .dataframe tbody tr th {\n",
              "        vertical-align: top;\n",
              "    }\n",
              "\n",
              "    .dataframe thead th {\n",
              "        text-align: right;\n",
              "    }\n",
              "</style>\n",
              "<table border=\"1\" class=\"dataframe\">\n",
              "  <thead>\n",
              "    <tr style=\"text-align: right;\">\n",
              "      <th></th>\n",
              "      <th>FID_NEW</th>\n",
              "      <th>a_stories</th>\n",
              "      <th>appr_bldg</th>\n",
              "      <th>b_stories</th>\n",
              "      <th>bldg_id</th>\n",
              "      <th>broad_occ</th>\n",
              "      <th>bsmt_type</th>\n",
              "      <th>cont_val</th>\n",
              "      <th>dgn_lvl</th>\n",
              "      <th>dwell_unit</th>\n",
              "      <th>...</th>\n",
              "      <th>rmv_improv</th>\n",
              "      <th>rmv_land</th>\n",
              "      <th>sq_foot</th>\n",
              "      <th>stat_class</th>\n",
              "      <th>str_cst</th>\n",
              "      <th>str_prob</th>\n",
              "      <th>str_typ2</th>\n",
              "      <th>struct_typ</th>\n",
              "      <th>tract_id</th>\n",
              "      <th>year_built</th>\n",
              "    </tr>\n",
              "  </thead>\n",
              "  <tbody>\n",
              "    <tr>\n",
              "      <th>0</th>\n",
              "      <td>5783</td>\n",
              "      <td>None</td>\n",
              "      <td>2895</td>\n",
              "      <td>None</td>\n",
              "      <td>None</td>\n",
              "      <td>None</td>\n",
              "      <td>None</td>\n",
              "      <td>None</td>\n",
              "      <td>Pre - Code</td>\n",
              "      <td>None</td>\n",
              "      <td>...</td>\n",
              "      <td>0.0</td>\n",
              "      <td>0.0</td>\n",
              "      <td>None</td>\n",
              "      <td>193</td>\n",
              "      <td>None</td>\n",
              "      <td>None</td>\n",
              "      <td>W1</td>\n",
              "      <td>W1</td>\n",
              "      <td>None</td>\n",
              "      <td>1968</td>\n",
              "    </tr>\n",
              "    <tr>\n",
              "      <th>1</th>\n",
              "      <td>5782</td>\n",
              "      <td>None</td>\n",
              "      <td>31878</td>\n",
              "      <td>None</td>\n",
              "      <td>None</td>\n",
              "      <td>None</td>\n",
              "      <td>None</td>\n",
              "      <td>None</td>\n",
              "      <td>Low - Code</td>\n",
              "      <td>None</td>\n",
              "      <td>...</td>\n",
              "      <td>0.0</td>\n",
              "      <td>0.0</td>\n",
              "      <td>None</td>\n",
              "      <td>193</td>\n",
              "      <td>None</td>\n",
              "      <td>None</td>\n",
              "      <td>W1</td>\n",
              "      <td>W1</td>\n",
              "      <td>None</td>\n",
              "      <td>1992</td>\n",
              "    </tr>\n",
              "    <tr>\n",
              "      <th>2</th>\n",
              "      <td>5781</td>\n",
              "      <td>None</td>\n",
              "      <td>5743</td>\n",
              "      <td>None</td>\n",
              "      <td>None</td>\n",
              "      <td>None</td>\n",
              "      <td>None</td>\n",
              "      <td>None</td>\n",
              "      <td>Low - Code</td>\n",
              "      <td>None</td>\n",
              "      <td>...</td>\n",
              "      <td>0.0</td>\n",
              "      <td>0.0</td>\n",
              "      <td>None</td>\n",
              "      <td>191</td>\n",
              "      <td>None</td>\n",
              "      <td>None</td>\n",
              "      <td>W1</td>\n",
              "      <td>W1</td>\n",
              "      <td>None</td>\n",
              "      <td>1974</td>\n",
              "    </tr>\n",
              "    <tr>\n",
              "      <th>3</th>\n",
              "      <td>5780</td>\n",
              "      <td>None</td>\n",
              "      <td>9598</td>\n",
              "      <td>None</td>\n",
              "      <td>None</td>\n",
              "      <td>None</td>\n",
              "      <td>None</td>\n",
              "      <td>None</td>\n",
              "      <td>Low - Code</td>\n",
              "      <td>None</td>\n",
              "      <td>...</td>\n",
              "      <td>0.0</td>\n",
              "      <td>0.0</td>\n",
              "      <td>None</td>\n",
              "      <td>193</td>\n",
              "      <td>None</td>\n",
              "      <td>None</td>\n",
              "      <td>W1</td>\n",
              "      <td>W1</td>\n",
              "      <td>None</td>\n",
              "      <td>1984</td>\n",
              "    </tr>\n",
              "    <tr>\n",
              "      <th>4</th>\n",
              "      <td>5779</td>\n",
              "      <td>None</td>\n",
              "      <td>1899</td>\n",
              "      <td>None</td>\n",
              "      <td>None</td>\n",
              "      <td>None</td>\n",
              "      <td>None</td>\n",
              "      <td>None</td>\n",
              "      <td>Pre - Code</td>\n",
              "      <td>None</td>\n",
              "      <td>...</td>\n",
              "      <td>0.0</td>\n",
              "      <td>0.0</td>\n",
              "      <td>None</td>\n",
              "      <td>190</td>\n",
              "      <td>None</td>\n",
              "      <td>None</td>\n",
              "      <td>W1</td>\n",
              "      <td>W1</td>\n",
              "      <td>None</td>\n",
              "      <td>1964</td>\n",
              "    </tr>\n",
              "  </tbody>\n",
              "</table>\n",
              "<p>5 rows × 37 columns</p>\n",
              "</div>"
            ],
            "text/plain": [
              "  FID_NEW a_stories appr_bldg b_stories bldg_id broad_occ bsmt_type cont_val  \\\n",
              "0    5783      None      2895      None    None      None      None     None   \n",
              "1    5782      None     31878      None    None      None      None     None   \n",
              "2    5781      None      5743      None    None      None      None     None   \n",
              "3    5780      None      9598      None    None      None      None     None   \n",
              "4    5779      None      1899      None    None      None      None     None   \n",
              "\n",
              "      dgn_lvl dwell_unit  ... rmv_improv  rmv_land sq_foot stat_class str_cst  \\\n",
              "0  Pre - Code       None  ...        0.0       0.0    None        193    None   \n",
              "1  Low - Code       None  ...        0.0       0.0    None        193    None   \n",
              "2  Low - Code       None  ...        0.0       0.0    None        191    None   \n",
              "3  Low - Code       None  ...        0.0       0.0    None        193    None   \n",
              "4  Pre - Code       None  ...        0.0       0.0    None        190    None   \n",
              "\n",
              "  str_prob  str_typ2 struct_typ tract_id year_built  \n",
              "0     None        W1         W1     None       1968  \n",
              "1     None        W1         W1     None       1992  \n",
              "2     None        W1         W1     None       1974  \n",
              "3     None        W1         W1     None       1984  \n",
              "4     None        W1         W1     None       1964  \n",
              "\n",
              "[5 rows x 37 columns]"
            ]
          },
          "metadata": {
            "tags": []
          },
          "execution_count": 9
        }
      ]
    },
    {
      "cell_type": "markdown",
      "metadata": {
        "id": "gkrzreDLgH7T"
      },
      "source": [
        "## Add link between Address Point Inventory and Building Inventory\n",
        "In order for the Housing Unit Allocation link to the Building Inventory is the structure id.\n",
        "\n",
        "Structure ID is a critical variable that links the building inventory with the address point inventory."
      ]
    },
    {
      "cell_type": "code",
      "metadata": {
        "id": "m3Ef5COEHcG1",
        "outputId": "9c3a0b7b-ad73-4fc9-ffc3-b52c582ff30e"
      },
      "source": [
        "# reading in Nathanael's building inventory - this version of the building inventory has structure id\n",
        "bldg_inv_id_v2 = '5d5433edb9219c0689b98344'\n",
        "dataset = Dataset.from_data_service(bldg_inv_id_v2, data_service)\n",
        "filename = dataset.get_file_path('csv')\n",
        "print(\"The IN-CORE Dataservice has saved the Building Inventory on your local machine: \"+filename)"
      ],
      "execution_count": null,
      "outputs": [
        {
          "output_type": "stream",
          "text": [
            "The IN-CORE Dataservice has saved the Building Inventory on your local machine: C:\\Users\\nathanael99\\.incore\\cache_data\\5d5433edb9219c0689b98344\\IN-CORE_1bv6_SetupSeaside_FourInventories_2019-08-02_buildinginventory\\IN-CORE_1bv6_SetupSeaside_FourInventories_2019-08-02_buildinginventory.csv\n"
          ],
          "name": "stdout"
        }
      ]
    },
    {
      "cell_type": "code",
      "metadata": {
        "id": "pxvUYmCiHcG2",
        "outputId": "265019f2-41ca-4727-95dd-b54882088fb3"
      },
      "source": [
        "df = dataset.get_dataframe_from_csv()\n",
        "df.head()"
      ],
      "execution_count": null,
      "outputs": [
        {
          "output_type": "execute_result",
          "data": {
            "text/html": [
              "<div>\n",
              "<style scoped>\n",
              "    .dataframe tbody tr th:only-of-type {\n",
              "        vertical-align: middle;\n",
              "    }\n",
              "\n",
              "    .dataframe tbody tr th {\n",
              "        vertical-align: top;\n",
              "    }\n",
              "\n",
              "    .dataframe thead th {\n",
              "        text-align: right;\n",
              "    }\n",
              "</style>\n",
              "<table border=\"1\" class=\"dataframe\">\n",
              "  <thead>\n",
              "    <tr style=\"text-align: right;\">\n",
              "      <th></th>\n",
              "      <th>strctid</th>\n",
              "      <th>blockid</th>\n",
              "      <th>parcelid</th>\n",
              "      <th>huestimate</th>\n",
              "      <th>x</th>\n",
              "      <th>y</th>\n",
              "      <th>landuse</th>\n",
              "      <th>guid</th>\n",
              "      <th>d_sf</th>\n",
              "      <th>insignific</th>\n",
              "      <th>moderate</th>\n",
              "      <th>heavy</th>\n",
              "      <th>complete</th>\n",
              "    </tr>\n",
              "  </thead>\n",
              "  <tbody>\n",
              "    <tr>\n",
              "      <th>0</th>\n",
              "      <td>41007000000020005S</td>\n",
              "      <td>410079511001025</td>\n",
              "      <td>0</td>\n",
              "      <td>1</td>\n",
              "      <td>-123.900452</td>\n",
              "      <td>46.010494</td>\n",
              "      <td>422</td>\n",
              "      <td>d1efcbda-33ed-4e2f-ada9-103289097787</td>\n",
              "      <td>1</td>\n",
              "      <td>0.007564</td>\n",
              "      <td>0.220722</td>\n",
              "      <td>0.495246</td>\n",
              "      <td>0.276469</td>\n",
              "    </tr>\n",
              "    <tr>\n",
              "      <th>1</th>\n",
              "      <td>41007000000020009S</td>\n",
              "      <td>410079511003005</td>\n",
              "      <td>0</td>\n",
              "      <td>1</td>\n",
              "      <td>-123.932060</td>\n",
              "      <td>45.979836</td>\n",
              "      <td>900</td>\n",
              "      <td>1664a263-f670-4485-8fa2-fb8c77030b3a</td>\n",
              "      <td>1</td>\n",
              "      <td>0.008840</td>\n",
              "      <td>0.175102</td>\n",
              "      <td>0.532891</td>\n",
              "      <td>0.283167</td>\n",
              "    </tr>\n",
              "    <tr>\n",
              "      <th>2</th>\n",
              "      <td>41007020802001001S</td>\n",
              "      <td>410079507002020</td>\n",
              "      <td>20802</td>\n",
              "      <td>1</td>\n",
              "      <td>-123.918625</td>\n",
              "      <td>46.017567</td>\n",
              "      <td>142</td>\n",
              "      <td>04819c03-9e77-4a0e-96b7-5f9ef5067351</td>\n",
              "      <td>1</td>\n",
              "      <td>0.166990</td>\n",
              "      <td>0.496775</td>\n",
              "      <td>0.301215</td>\n",
              "      <td>0.035020</td>\n",
              "    </tr>\n",
              "    <tr>\n",
              "      <th>3</th>\n",
              "      <td>41007020853008001S</td>\n",
              "      <td>410079507002040</td>\n",
              "      <td>20853</td>\n",
              "      <td>1</td>\n",
              "      <td>-123.913643</td>\n",
              "      <td>46.017326</td>\n",
              "      <td>122</td>\n",
              "      <td>26c7457d-e252-40a7-a5db-5091cb9a6fe8</td>\n",
              "      <td>1</td>\n",
              "      <td>0.169053</td>\n",
              "      <td>0.497703</td>\n",
              "      <td>0.298854</td>\n",
              "      <td>0.034390</td>\n",
              "    </tr>\n",
              "    <tr>\n",
              "      <th>4</th>\n",
              "      <td>41007020853008002S</td>\n",
              "      <td>410079507002040</td>\n",
              "      <td>20853</td>\n",
              "      <td>1</td>\n",
              "      <td>-123.913643</td>\n",
              "      <td>46.017326</td>\n",
              "      <td>123</td>\n",
              "      <td>d0bbb5b2-8465-47f0-9ea4-51d7493e4c99</td>\n",
              "      <td>1</td>\n",
              "      <td>0.169053</td>\n",
              "      <td>0.497703</td>\n",
              "      <td>0.298854</td>\n",
              "      <td>0.034390</td>\n",
              "    </tr>\n",
              "  </tbody>\n",
              "</table>\n",
              "</div>"
            ],
            "text/plain": [
              "              strctid          blockid  parcelid  huestimate           x  \\\n",
              "0  41007000000020005S  410079511001025         0           1 -123.900452   \n",
              "1  41007000000020009S  410079511003005         0           1 -123.932060   \n",
              "2  41007020802001001S  410079507002020     20802           1 -123.918625   \n",
              "3  41007020853008001S  410079507002040     20853           1 -123.913643   \n",
              "4  41007020853008002S  410079507002040     20853           1 -123.913643   \n",
              "\n",
              "           y  landuse                                  guid  d_sf  insignific  \\\n",
              "0  46.010494      422  d1efcbda-33ed-4e2f-ada9-103289097787     1    0.007564   \n",
              "1  45.979836      900  1664a263-f670-4485-8fa2-fb8c77030b3a     1    0.008840   \n",
              "2  46.017567      142  04819c03-9e77-4a0e-96b7-5f9ef5067351     1    0.166990   \n",
              "3  46.017326      122  26c7457d-e252-40a7-a5db-5091cb9a6fe8     1    0.169053   \n",
              "4  46.017326      123  d0bbb5b2-8465-47f0-9ea4-51d7493e4c99     1    0.169053   \n",
              "\n",
              "   moderate     heavy  complete  \n",
              "0  0.220722  0.495246  0.276469  \n",
              "1  0.175102  0.532891  0.283167  \n",
              "2  0.496775  0.301215  0.035020  \n",
              "3  0.497703  0.298854  0.034390  \n",
              "4  0.497703  0.298854  0.034390  "
            ]
          },
          "metadata": {
            "tags": []
          },
          "execution_count": 14
        }
      ]
    },
    {
      "cell_type": "code",
      "metadata": {
        "id": "6oUEpxoYHcG2",
        "outputId": "0663b0be-1716-4175-8059-97651936acf2"
      },
      "source": [
        "# merging Nathanael's building inventory CSV with OSU's shapefile\n",
        "gdf_new = pd.merge(gdf, df[['strctid', 'guid','x','y']], how='left', left_on='guid', right_on='guid')\n",
        "print(len(df), len(gdf), len(gdf_new)) # checking lengths"
      ],
      "execution_count": null,
      "outputs": [
        {
          "output_type": "stream",
          "text": [
            "3687 4679 4679\n"
          ],
          "name": "stdout"
        }
      ]
    },
    {
      "cell_type": "code",
      "metadata": {
        "id": "M8Dh9QitHcG3",
        "outputId": "4cfe348b-9643-4ff0-9953-cc7fee75ddfe"
      },
      "source": [
        "gdf_new.guid.describe()"
      ],
      "execution_count": null,
      "outputs": [
        {
          "output_type": "execute_result",
          "data": {
            "text/plain": [
              "count                                     4679\n",
              "unique                                    4679\n",
              "top       b3919835-fa9c-4af0-8dba-4f1dd7cb9cad\n",
              "freq                                         1\n",
              "Name: guid, dtype: object"
            ]
          },
          "metadata": {
            "tags": []
          },
          "execution_count": 24
        }
      ]
    },
    {
      "cell_type": "code",
      "metadata": {
        "id": "RRseO2sXHcG4",
        "outputId": "5a09e5fc-8fd7-4690-9aa6-7d42b48ae2ed"
      },
      "source": [
        "gdf_new.strctid.describe()"
      ],
      "execution_count": null,
      "outputs": [
        {
          "output_type": "execute_result",
          "data": {
            "text/plain": [
              "count                   3687\n",
              "unique                  3687\n",
              "top       41007025739001001S\n",
              "freq                       1\n",
              "Name: strctid, dtype: object"
            ]
          },
          "metadata": {
            "tags": []
          },
          "execution_count": 25
        }
      ]
    },
    {
      "cell_type": "markdown",
      "metadata": {
        "id": "uRhPm1h5gH7U"
      },
      "source": [
        "## Confirm Structure ID merge location matches geometry"
      ]
    },
    {
      "cell_type": "code",
      "metadata": {
        "id": "EDUf3VIUHcG5",
        "outputId": "6c4e15f7-3476-4d5b-d6cd-ce78ee9bd5e7"
      },
      "source": [
        "gdf_new[['strctid', 'guid','x','y','geometry']].head()"
      ],
      "execution_count": null,
      "outputs": [
        {
          "output_type": "execute_result",
          "data": {
            "text/html": [
              "<div>\n",
              "<style scoped>\n",
              "    .dataframe tbody tr th:only-of-type {\n",
              "        vertical-align: middle;\n",
              "    }\n",
              "\n",
              "    .dataframe tbody tr th {\n",
              "        vertical-align: top;\n",
              "    }\n",
              "\n",
              "    .dataframe thead th {\n",
              "        text-align: right;\n",
              "    }\n",
              "</style>\n",
              "<table border=\"1\" class=\"dataframe\">\n",
              "  <thead>\n",
              "    <tr style=\"text-align: right;\">\n",
              "      <th></th>\n",
              "      <th>strctid</th>\n",
              "      <th>guid</th>\n",
              "      <th>x</th>\n",
              "      <th>y</th>\n",
              "      <th>geometry</th>\n",
              "    </tr>\n",
              "  </thead>\n",
              "  <tbody>\n",
              "    <tr>\n",
              "      <th>0</th>\n",
              "      <td>41007020933038031S</td>\n",
              "      <td>fba4c73f-9b1b-4942-b7fb-bc276a4e0a4e</td>\n",
              "      <td>-123.908997</td>\n",
              "      <td>46.014336</td>\n",
              "      <td>POINT (-123.90900 46.01433)</td>\n",
              "    </tr>\n",
              "    <tr>\n",
              "      <th>1</th>\n",
              "      <td>41007022416079053S</td>\n",
              "      <td>65d6e370-c05b-4b2f-bd17-d914d1d056c7</td>\n",
              "      <td>-123.905846</td>\n",
              "      <td>45.997948</td>\n",
              "      <td>POINT (-123.90585 45.99795)</td>\n",
              "    </tr>\n",
              "    <tr>\n",
              "      <th>2</th>\n",
              "      <td>41007020933038014S</td>\n",
              "      <td>dad76485-9694-409e-ac7f-c64c7bd5c32c</td>\n",
              "      <td>-123.908997</td>\n",
              "      <td>46.014336</td>\n",
              "      <td>POINT (-123.90900 46.01433)</td>\n",
              "    </tr>\n",
              "    <tr>\n",
              "      <th>3</th>\n",
              "      <td>41007020933038018S</td>\n",
              "      <td>6f57cfb6-d244-40d5-96f5-03aeddd5e30a</td>\n",
              "      <td>-123.908997</td>\n",
              "      <td>46.014336</td>\n",
              "      <td>POINT (-123.90900 46.01433)</td>\n",
              "    </tr>\n",
              "    <tr>\n",
              "      <th>4</th>\n",
              "      <td>41007022789002002S</td>\n",
              "      <td>929f1040-6224-409d-b4e3-58946daf3b91</td>\n",
              "      <td>-123.911827</td>\n",
              "      <td>45.997475</td>\n",
              "      <td>POINT (-123.91183 45.99747)</td>\n",
              "    </tr>\n",
              "  </tbody>\n",
              "</table>\n",
              "</div>"
            ],
            "text/plain": [
              "              strctid                                  guid           x  \\\n",
              "0  41007020933038031S  fba4c73f-9b1b-4942-b7fb-bc276a4e0a4e -123.908997   \n",
              "1  41007022416079053S  65d6e370-c05b-4b2f-bd17-d914d1d056c7 -123.905846   \n",
              "2  41007020933038014S  dad76485-9694-409e-ac7f-c64c7bd5c32c -123.908997   \n",
              "3  41007020933038018S  6f57cfb6-d244-40d5-96f5-03aeddd5e30a -123.908997   \n",
              "4  41007022789002002S  929f1040-6224-409d-b4e3-58946daf3b91 -123.911827   \n",
              "\n",
              "           y                     geometry  \n",
              "0  46.014336  POINT (-123.90900 46.01433)  \n",
              "1  45.997948  POINT (-123.90585 45.99795)  \n",
              "2  46.014336  POINT (-123.90900 46.01433)  \n",
              "3  46.014336  POINT (-123.90900 46.01433)  \n",
              "4  45.997475  POINT (-123.91183 45.99747)  "
            ]
          },
          "metadata": {
            "tags": []
          },
          "execution_count": 16
        }
      ]
    },
    {
      "cell_type": "code",
      "metadata": {
        "id": "85vI6N0HHcG5",
        "outputId": "7dd84870-bb3b-4a00-d8b1-a533d69e1cb1"
      },
      "source": [
        "gdf_new.columns"
      ],
      "execution_count": null,
      "outputs": [
        {
          "output_type": "execute_result",
          "data": {
            "text/plain": [
              "Index(['FID_NEW', 'a_stories', 'appr_bldg', 'b_stories', 'bldg_id',\n",
              "       'broad_occ', 'bsmt_type', 'cont_val', 'dgn_lvl', 'dwell_unit',\n",
              "       'efacility', 'elev', 'geometry', 'gsq_foot', 'guid', 'major_occ',\n",
              "       'no_stories', 'nstra_cst', 'nstrd_cst', 'occ_detail', 'occ_typ2',\n",
              "       'occ_type', 'origin', 'parid', 'parid_card', 'period', 'repl_cst',\n",
              "       'rmv_improv', 'rmv_land', 'sq_foot', 'stat_class', 'str_cst',\n",
              "       'str_prob', 'str_typ2', 'struct_typ', 'tract_id', 'year_built',\n",
              "       'strctid', 'x', 'y'],\n",
              "      dtype='object')"
            ]
          },
          "metadata": {
            "tags": []
          },
          "execution_count": 26
        }
      ]
    },
    {
      "cell_type": "markdown",
      "metadata": {
        "id": "LyTR6gedgH7X"
      },
      "source": [
        "# Clean mereged data to match \n",
        "\n",
        "The latest Building Inventory of a shape file is of version 6, we use the type\n",
        "ergo:buildingInventoryVer6 \n",
        "\n",
        "https://opensource.ncsa.illinois.edu/confluence/display/INCORE1/Building+Inventory+Datatype+Schema\n",
        "\n",
        "Variables to include\n",
        "v6\n",
        "guid\n",
        "\n",
        "strctid \n",
        "\n",
        "struct_typ\n",
        "\n",
        "archetype\n",
        "\n",
        "occ_type\n",
        "\n",
        "appr_bldg\n",
        "\n",
        "sq_foot\n",
        "\n",
        "dwell_unit\n",
        "\n",
        "no_stories\n",
        "\n",
        "cont_val\n",
        "\n",
        "str_typ2\n",
        "\n",
        "efacility\n",
        "\n",
        "parid\n",
        "\n",
        "year_built\n",
        "\n",
        "a_stories\n",
        "\n",
        "b_stories\n",
        "\n",
        "bsmt_type\n",
        "\n",
        "gsq_foot\n",
        "\n",
        "occ_detail\n",
        "\n",
        "major_occ\n",
        "\n",
        "broad_occ\n",
        "\n",
        "repl_cst\n",
        "\n",
        "str_cst\n",
        "\n",
        "nstra_cst\n",
        "\n",
        "nstrd_cst\n",
        "\n",
        "dgn_lvl\n",
        "\n",
        "occ_typ2\n",
        "\n",
        "appr_land\n",
        "\n",
        "appr_tot\n",
        "\n"
      ]
    },
    {
      "cell_type": "code",
      "metadata": {
        "id": "GrAPvENngH7X",
        "outputId": "74c82b2b-f375-4e3a-f149-3dfa55a743bc"
      },
      "source": [
        "# create list of all required ergo:buildingInventoryVer6 columns\n",
        "incore_columns = ['guid',\n",
        "                  'strctid',\n",
        "                  'struct_typ', \n",
        "                  'archetype', \n",
        "                  'occ_type', \n",
        "                  'appr_bldg', \n",
        "                  'sq_foot', \n",
        "                  'dwell_unit', \n",
        "                  'no_stories', \n",
        "                  'cont_val', \n",
        "                  'str_typ2', \n",
        "                  'efacility', \n",
        "                  'parid', \n",
        "                  'year_built', \n",
        "                  'a_stories', \n",
        "                  'b_stories', \n",
        "                  'bsmt_type', \n",
        "                  'gsq_foot', \n",
        "                  'occ_detail', \n",
        "                  'major_occ', \n",
        "                  'broad_occ', \n",
        "                  'repl_cst', \n",
        "                  'str_cst', \n",
        "                  'nstra_cst', \n",
        "                  'nstrd_cst', \n",
        "                  'dgn_lvl', \n",
        "                  'occ_typ2', \n",
        "                  'appr_land', \n",
        "                  'appr_tot']\n",
        "incore_columns_df = pd.Series(incore_columns,name='varname')\n",
        "incore_columns_df = pd.DataFrame(incore_columns,columns =['varname']).sort_values(by=['varname'])\n",
        "incore_columns_df.head()"
      ],
      "execution_count": null,
      "outputs": [
        {
          "output_type": "execute_result",
          "data": {
            "text/html": [
              "<div>\n",
              "<style scoped>\n",
              "    .dataframe tbody tr th:only-of-type {\n",
              "        vertical-align: middle;\n",
              "    }\n",
              "\n",
              "    .dataframe tbody tr th {\n",
              "        vertical-align: top;\n",
              "    }\n",
              "\n",
              "    .dataframe thead th {\n",
              "        text-align: right;\n",
              "    }\n",
              "</style>\n",
              "<table border=\"1\" class=\"dataframe\">\n",
              "  <thead>\n",
              "    <tr style=\"text-align: right;\">\n",
              "      <th></th>\n",
              "      <th>varname</th>\n",
              "    </tr>\n",
              "  </thead>\n",
              "  <tbody>\n",
              "    <tr>\n",
              "      <th>14</th>\n",
              "      <td>a_stories</td>\n",
              "    </tr>\n",
              "    <tr>\n",
              "      <th>5</th>\n",
              "      <td>appr_bldg</td>\n",
              "    </tr>\n",
              "    <tr>\n",
              "      <th>27</th>\n",
              "      <td>appr_land</td>\n",
              "    </tr>\n",
              "    <tr>\n",
              "      <th>28</th>\n",
              "      <td>appr_tot</td>\n",
              "    </tr>\n",
              "    <tr>\n",
              "      <th>3</th>\n",
              "      <td>archetype</td>\n",
              "    </tr>\n",
              "  </tbody>\n",
              "</table>\n",
              "</div>"
            ],
            "text/plain": [
              "      varname\n",
              "14  a_stories\n",
              "5   appr_bldg\n",
              "27  appr_land\n",
              "28   appr_tot\n",
              "3   archetype"
            ]
          },
          "metadata": {
            "tags": []
          },
          "execution_count": 49
        }
      ]
    },
    {
      "cell_type": "markdown",
      "metadata": {
        "id": "S13AfdgkHcG6"
      },
      "source": [
        "### Compare IN-CORE Column list with Current list"
      ]
    },
    {
      "cell_type": "code",
      "metadata": {
        "id": "T-nPHZslHcG6",
        "outputId": "140e99cd-5074-4837-aa42-d9f1de520f13"
      },
      "source": [
        "columnlist = pd.DataFrame(gdf_new.columns,columns =['varname']).sort_values(by=['varname'])\n",
        "columnlist.head()"
      ],
      "execution_count": null,
      "outputs": [
        {
          "output_type": "execute_result",
          "data": {
            "text/html": [
              "<div>\n",
              "<style scoped>\n",
              "    .dataframe tbody tr th:only-of-type {\n",
              "        vertical-align: middle;\n",
              "    }\n",
              "\n",
              "    .dataframe tbody tr th {\n",
              "        vertical-align: top;\n",
              "    }\n",
              "\n",
              "    .dataframe thead th {\n",
              "        text-align: right;\n",
              "    }\n",
              "</style>\n",
              "<table border=\"1\" class=\"dataframe\">\n",
              "  <thead>\n",
              "    <tr style=\"text-align: right;\">\n",
              "      <th></th>\n",
              "      <th>varname</th>\n",
              "    </tr>\n",
              "  </thead>\n",
              "  <tbody>\n",
              "    <tr>\n",
              "      <th>0</th>\n",
              "      <td>FID_NEW</td>\n",
              "    </tr>\n",
              "    <tr>\n",
              "      <th>1</th>\n",
              "      <td>a_stories</td>\n",
              "    </tr>\n",
              "    <tr>\n",
              "      <th>2</th>\n",
              "      <td>appr_bldg</td>\n",
              "    </tr>\n",
              "    <tr>\n",
              "      <th>3</th>\n",
              "      <td>b_stories</td>\n",
              "    </tr>\n",
              "    <tr>\n",
              "      <th>4</th>\n",
              "      <td>bldg_id</td>\n",
              "    </tr>\n",
              "  </tbody>\n",
              "</table>\n",
              "</div>"
            ],
            "text/plain": [
              "     varname\n",
              "0    FID_NEW\n",
              "1  a_stories\n",
              "2  appr_bldg\n",
              "3  b_stories\n",
              "4    bldg_id"
            ]
          },
          "metadata": {
            "tags": []
          },
          "execution_count": 50
        }
      ]
    },
    {
      "cell_type": "code",
      "metadata": {
        "id": "Jcrnf9LSHcG7",
        "outputId": "0c8d55f0-8a69-4cd6-ccb6-492438bddaf5"
      },
      "source": [
        "columnlist_merge = columnlist.merge(incore_columns_df, how='outer', left_on='varname', right_on='varname', indicator = True)\n",
        "columnlist_merge"
      ],
      "execution_count": null,
      "outputs": [
        {
          "output_type": "execute_result",
          "data": {
            "text/html": [
              "<div>\n",
              "<style scoped>\n",
              "    .dataframe tbody tr th:only-of-type {\n",
              "        vertical-align: middle;\n",
              "    }\n",
              "\n",
              "    .dataframe tbody tr th {\n",
              "        vertical-align: top;\n",
              "    }\n",
              "\n",
              "    .dataframe thead th {\n",
              "        text-align: right;\n",
              "    }\n",
              "</style>\n",
              "<table border=\"1\" class=\"dataframe\">\n",
              "  <thead>\n",
              "    <tr style=\"text-align: right;\">\n",
              "      <th></th>\n",
              "      <th>varname</th>\n",
              "      <th>_merge</th>\n",
              "    </tr>\n",
              "  </thead>\n",
              "  <tbody>\n",
              "    <tr>\n",
              "      <th>0</th>\n",
              "      <td>FID_NEW</td>\n",
              "      <td>left_only</td>\n",
              "    </tr>\n",
              "    <tr>\n",
              "      <th>1</th>\n",
              "      <td>a_stories</td>\n",
              "      <td>both</td>\n",
              "    </tr>\n",
              "    <tr>\n",
              "      <th>2</th>\n",
              "      <td>appr_bldg</td>\n",
              "      <td>both</td>\n",
              "    </tr>\n",
              "    <tr>\n",
              "      <th>3</th>\n",
              "      <td>b_stories</td>\n",
              "      <td>both</td>\n",
              "    </tr>\n",
              "    <tr>\n",
              "      <th>4</th>\n",
              "      <td>bldg_id</td>\n",
              "      <td>left_only</td>\n",
              "    </tr>\n",
              "    <tr>\n",
              "      <th>5</th>\n",
              "      <td>broad_occ</td>\n",
              "      <td>both</td>\n",
              "    </tr>\n",
              "    <tr>\n",
              "      <th>6</th>\n",
              "      <td>bsmt_type</td>\n",
              "      <td>both</td>\n",
              "    </tr>\n",
              "    <tr>\n",
              "      <th>7</th>\n",
              "      <td>cont_val</td>\n",
              "      <td>both</td>\n",
              "    </tr>\n",
              "    <tr>\n",
              "      <th>8</th>\n",
              "      <td>dgn_lvl</td>\n",
              "      <td>both</td>\n",
              "    </tr>\n",
              "    <tr>\n",
              "      <th>9</th>\n",
              "      <td>dwell_unit</td>\n",
              "      <td>both</td>\n",
              "    </tr>\n",
              "    <tr>\n",
              "      <th>10</th>\n",
              "      <td>efacility</td>\n",
              "      <td>both</td>\n",
              "    </tr>\n",
              "    <tr>\n",
              "      <th>11</th>\n",
              "      <td>elev</td>\n",
              "      <td>left_only</td>\n",
              "    </tr>\n",
              "    <tr>\n",
              "      <th>12</th>\n",
              "      <td>geometry</td>\n",
              "      <td>left_only</td>\n",
              "    </tr>\n",
              "    <tr>\n",
              "      <th>13</th>\n",
              "      <td>gsq_foot</td>\n",
              "      <td>both</td>\n",
              "    </tr>\n",
              "    <tr>\n",
              "      <th>14</th>\n",
              "      <td>guid</td>\n",
              "      <td>both</td>\n",
              "    </tr>\n",
              "    <tr>\n",
              "      <th>15</th>\n",
              "      <td>major_occ</td>\n",
              "      <td>both</td>\n",
              "    </tr>\n",
              "    <tr>\n",
              "      <th>16</th>\n",
              "      <td>no_stories</td>\n",
              "      <td>both</td>\n",
              "    </tr>\n",
              "    <tr>\n",
              "      <th>17</th>\n",
              "      <td>nstra_cst</td>\n",
              "      <td>both</td>\n",
              "    </tr>\n",
              "    <tr>\n",
              "      <th>18</th>\n",
              "      <td>nstrd_cst</td>\n",
              "      <td>both</td>\n",
              "    </tr>\n",
              "    <tr>\n",
              "      <th>19</th>\n",
              "      <td>occ_detail</td>\n",
              "      <td>both</td>\n",
              "    </tr>\n",
              "    <tr>\n",
              "      <th>20</th>\n",
              "      <td>occ_typ2</td>\n",
              "      <td>both</td>\n",
              "    </tr>\n",
              "    <tr>\n",
              "      <th>21</th>\n",
              "      <td>occ_type</td>\n",
              "      <td>both</td>\n",
              "    </tr>\n",
              "    <tr>\n",
              "      <th>22</th>\n",
              "      <td>origin</td>\n",
              "      <td>left_only</td>\n",
              "    </tr>\n",
              "    <tr>\n",
              "      <th>23</th>\n",
              "      <td>parid</td>\n",
              "      <td>both</td>\n",
              "    </tr>\n",
              "    <tr>\n",
              "      <th>24</th>\n",
              "      <td>parid_card</td>\n",
              "      <td>left_only</td>\n",
              "    </tr>\n",
              "    <tr>\n",
              "      <th>25</th>\n",
              "      <td>period</td>\n",
              "      <td>left_only</td>\n",
              "    </tr>\n",
              "    <tr>\n",
              "      <th>26</th>\n",
              "      <td>repl_cst</td>\n",
              "      <td>both</td>\n",
              "    </tr>\n",
              "    <tr>\n",
              "      <th>27</th>\n",
              "      <td>rmv_improv</td>\n",
              "      <td>left_only</td>\n",
              "    </tr>\n",
              "    <tr>\n",
              "      <th>28</th>\n",
              "      <td>rmv_land</td>\n",
              "      <td>left_only</td>\n",
              "    </tr>\n",
              "    <tr>\n",
              "      <th>29</th>\n",
              "      <td>sq_foot</td>\n",
              "      <td>both</td>\n",
              "    </tr>\n",
              "    <tr>\n",
              "      <th>30</th>\n",
              "      <td>stat_class</td>\n",
              "      <td>left_only</td>\n",
              "    </tr>\n",
              "    <tr>\n",
              "      <th>31</th>\n",
              "      <td>str_cst</td>\n",
              "      <td>both</td>\n",
              "    </tr>\n",
              "    <tr>\n",
              "      <th>32</th>\n",
              "      <td>str_prob</td>\n",
              "      <td>left_only</td>\n",
              "    </tr>\n",
              "    <tr>\n",
              "      <th>33</th>\n",
              "      <td>str_typ2</td>\n",
              "      <td>both</td>\n",
              "    </tr>\n",
              "    <tr>\n",
              "      <th>34</th>\n",
              "      <td>strctid</td>\n",
              "      <td>both</td>\n",
              "    </tr>\n",
              "    <tr>\n",
              "      <th>35</th>\n",
              "      <td>struct_typ</td>\n",
              "      <td>both</td>\n",
              "    </tr>\n",
              "    <tr>\n",
              "      <th>36</th>\n",
              "      <td>tract_id</td>\n",
              "      <td>left_only</td>\n",
              "    </tr>\n",
              "    <tr>\n",
              "      <th>37</th>\n",
              "      <td>x</td>\n",
              "      <td>left_only</td>\n",
              "    </tr>\n",
              "    <tr>\n",
              "      <th>38</th>\n",
              "      <td>y</td>\n",
              "      <td>left_only</td>\n",
              "    </tr>\n",
              "    <tr>\n",
              "      <th>39</th>\n",
              "      <td>year_built</td>\n",
              "      <td>both</td>\n",
              "    </tr>\n",
              "    <tr>\n",
              "      <th>40</th>\n",
              "      <td>appr_land</td>\n",
              "      <td>right_only</td>\n",
              "    </tr>\n",
              "    <tr>\n",
              "      <th>41</th>\n",
              "      <td>appr_tot</td>\n",
              "      <td>right_only</td>\n",
              "    </tr>\n",
              "    <tr>\n",
              "      <th>42</th>\n",
              "      <td>archetype</td>\n",
              "      <td>right_only</td>\n",
              "    </tr>\n",
              "  </tbody>\n",
              "</table>\n",
              "</div>"
            ],
            "text/plain": [
              "       varname      _merge\n",
              "0      FID_NEW   left_only\n",
              "1    a_stories        both\n",
              "2    appr_bldg        both\n",
              "3    b_stories        both\n",
              "4      bldg_id   left_only\n",
              "5    broad_occ        both\n",
              "6    bsmt_type        both\n",
              "7     cont_val        both\n",
              "8      dgn_lvl        both\n",
              "9   dwell_unit        both\n",
              "10   efacility        both\n",
              "11        elev   left_only\n",
              "12    geometry   left_only\n",
              "13    gsq_foot        both\n",
              "14        guid        both\n",
              "15   major_occ        both\n",
              "16  no_stories        both\n",
              "17   nstra_cst        both\n",
              "18   nstrd_cst        both\n",
              "19  occ_detail        both\n",
              "20    occ_typ2        both\n",
              "21    occ_type        both\n",
              "22      origin   left_only\n",
              "23       parid        both\n",
              "24  parid_card   left_only\n",
              "25      period   left_only\n",
              "26    repl_cst        both\n",
              "27  rmv_improv   left_only\n",
              "28    rmv_land   left_only\n",
              "29     sq_foot        both\n",
              "30  stat_class   left_only\n",
              "31     str_cst        both\n",
              "32    str_prob   left_only\n",
              "33    str_typ2        both\n",
              "34     strctid        both\n",
              "35  struct_typ        both\n",
              "36    tract_id   left_only\n",
              "37           x   left_only\n",
              "38           y   left_only\n",
              "39  year_built        both\n",
              "40   appr_land  right_only\n",
              "41    appr_tot  right_only\n",
              "42   archetype  right_only"
            ]
          },
          "metadata": {
            "tags": []
          },
          "execution_count": 86
        }
      ]
    },
    {
      "cell_type": "code",
      "metadata": {
        "id": "BdzvJorPgH7Y",
        "outputId": "32b1ac48-3651-4eea-8475-9dc081cd4a46"
      },
      "source": [
        "left_only_cols = columnlist_merge.loc[columnlist_merge['_merge'] == 'left_only']\n",
        "left_only_cols"
      ],
      "execution_count": null,
      "outputs": [
        {
          "output_type": "execute_result",
          "data": {
            "text/html": [
              "<div>\n",
              "<style scoped>\n",
              "    .dataframe tbody tr th:only-of-type {\n",
              "        vertical-align: middle;\n",
              "    }\n",
              "\n",
              "    .dataframe tbody tr th {\n",
              "        vertical-align: top;\n",
              "    }\n",
              "\n",
              "    .dataframe thead th {\n",
              "        text-align: right;\n",
              "    }\n",
              "</style>\n",
              "<table border=\"1\" class=\"dataframe\">\n",
              "  <thead>\n",
              "    <tr style=\"text-align: right;\">\n",
              "      <th></th>\n",
              "      <th>varname</th>\n",
              "      <th>_merge</th>\n",
              "    </tr>\n",
              "  </thead>\n",
              "  <tbody>\n",
              "    <tr>\n",
              "      <th>0</th>\n",
              "      <td>FID_NEW</td>\n",
              "      <td>left_only</td>\n",
              "    </tr>\n",
              "    <tr>\n",
              "      <th>4</th>\n",
              "      <td>bldg_id</td>\n",
              "      <td>left_only</td>\n",
              "    </tr>\n",
              "    <tr>\n",
              "      <th>11</th>\n",
              "      <td>elev</td>\n",
              "      <td>left_only</td>\n",
              "    </tr>\n",
              "    <tr>\n",
              "      <th>12</th>\n",
              "      <td>geometry</td>\n",
              "      <td>left_only</td>\n",
              "    </tr>\n",
              "    <tr>\n",
              "      <th>22</th>\n",
              "      <td>origin</td>\n",
              "      <td>left_only</td>\n",
              "    </tr>\n",
              "    <tr>\n",
              "      <th>24</th>\n",
              "      <td>parid_card</td>\n",
              "      <td>left_only</td>\n",
              "    </tr>\n",
              "    <tr>\n",
              "      <th>25</th>\n",
              "      <td>period</td>\n",
              "      <td>left_only</td>\n",
              "    </tr>\n",
              "    <tr>\n",
              "      <th>27</th>\n",
              "      <td>rmv_improv</td>\n",
              "      <td>left_only</td>\n",
              "    </tr>\n",
              "    <tr>\n",
              "      <th>28</th>\n",
              "      <td>rmv_land</td>\n",
              "      <td>left_only</td>\n",
              "    </tr>\n",
              "    <tr>\n",
              "      <th>30</th>\n",
              "      <td>stat_class</td>\n",
              "      <td>left_only</td>\n",
              "    </tr>\n",
              "    <tr>\n",
              "      <th>32</th>\n",
              "      <td>str_prob</td>\n",
              "      <td>left_only</td>\n",
              "    </tr>\n",
              "    <tr>\n",
              "      <th>36</th>\n",
              "      <td>tract_id</td>\n",
              "      <td>left_only</td>\n",
              "    </tr>\n",
              "    <tr>\n",
              "      <th>37</th>\n",
              "      <td>x</td>\n",
              "      <td>left_only</td>\n",
              "    </tr>\n",
              "    <tr>\n",
              "      <th>38</th>\n",
              "      <td>y</td>\n",
              "      <td>left_only</td>\n",
              "    </tr>\n",
              "  </tbody>\n",
              "</table>\n",
              "</div>"
            ],
            "text/plain": [
              "       varname     _merge\n",
              "0      FID_NEW  left_only\n",
              "4      bldg_id  left_only\n",
              "11        elev  left_only\n",
              "12    geometry  left_only\n",
              "22      origin  left_only\n",
              "24  parid_card  left_only\n",
              "25      period  left_only\n",
              "27  rmv_improv  left_only\n",
              "28    rmv_land  left_only\n",
              "30  stat_class  left_only\n",
              "32    str_prob  left_only\n",
              "36    tract_id  left_only\n",
              "37           x  left_only\n",
              "38           y  left_only"
            ]
          },
          "metadata": {
            "tags": []
          },
          "execution_count": 87
        }
      ]
    },
    {
      "cell_type": "code",
      "metadata": {
        "id": "ipkbD6xgHcG7",
        "outputId": "4ebabe6f-42bf-447d-c566-32d47b30aa42"
      },
      "source": [
        "right_only_cols = columnlist_merge.loc[columnlist_merge['_merge'] == 'right_only']\n",
        "right_only_cols"
      ],
      "execution_count": null,
      "outputs": [
        {
          "output_type": "execute_result",
          "data": {
            "text/html": [
              "<div>\n",
              "<style scoped>\n",
              "    .dataframe tbody tr th:only-of-type {\n",
              "        vertical-align: middle;\n",
              "    }\n",
              "\n",
              "    .dataframe tbody tr th {\n",
              "        vertical-align: top;\n",
              "    }\n",
              "\n",
              "    .dataframe thead th {\n",
              "        text-align: right;\n",
              "    }\n",
              "</style>\n",
              "<table border=\"1\" class=\"dataframe\">\n",
              "  <thead>\n",
              "    <tr style=\"text-align: right;\">\n",
              "      <th></th>\n",
              "      <th>varname</th>\n",
              "      <th>_merge</th>\n",
              "    </tr>\n",
              "  </thead>\n",
              "  <tbody>\n",
              "    <tr>\n",
              "      <th>40</th>\n",
              "      <td>appr_land</td>\n",
              "      <td>right_only</td>\n",
              "    </tr>\n",
              "    <tr>\n",
              "      <th>41</th>\n",
              "      <td>appr_tot</td>\n",
              "      <td>right_only</td>\n",
              "    </tr>\n",
              "    <tr>\n",
              "      <th>42</th>\n",
              "      <td>archetype</td>\n",
              "      <td>right_only</td>\n",
              "    </tr>\n",
              "  </tbody>\n",
              "</table>\n",
              "</div>"
            ],
            "text/plain": [
              "      varname      _merge\n",
              "40  appr_land  right_only\n",
              "41   appr_tot  right_only\n",
              "42  archetype  right_only"
            ]
          },
          "metadata": {
            "tags": []
          },
          "execution_count": 88
        }
      ]
    },
    {
      "cell_type": "code",
      "metadata": {
        "id": "iPqP0lJRHcG8",
        "outputId": "431953dd-8633-4c3b-c764-ac89aa6972c3"
      },
      "source": [
        "explore_columns = left_only_cols.varname.to_list()\n",
        "explore_columns"
      ],
      "execution_count": null,
      "outputs": [
        {
          "output_type": "execute_result",
          "data": {
            "text/plain": [
              "['FID_NEW',\n",
              " 'bldg_id',\n",
              " 'elev',\n",
              " 'geometry',\n",
              " 'origin',\n",
              " 'parid_card',\n",
              " 'period',\n",
              " 'rmv_improv',\n",
              " 'rmv_land',\n",
              " 'stat_class',\n",
              " 'str_prob',\n",
              " 'tract_id',\n",
              " 'x',\n",
              " 'y']"
            ]
          },
          "metadata": {
            "tags": []
          },
          "execution_count": 89
        }
      ]
    },
    {
      "cell_type": "code",
      "metadata": {
        "id": "uEdf8zjaHcG8",
        "outputId": "9e0f4314-2717-4302-89ab-0c80139a0dee"
      },
      "source": [
        "gdf_new[explore_columns].head()"
      ],
      "execution_count": null,
      "outputs": [
        {
          "output_type": "execute_result",
          "data": {
            "text/html": [
              "<div>\n",
              "<style scoped>\n",
              "    .dataframe tbody tr th:only-of-type {\n",
              "        vertical-align: middle;\n",
              "    }\n",
              "\n",
              "    .dataframe tbody tr th {\n",
              "        vertical-align: top;\n",
              "    }\n",
              "\n",
              "    .dataframe thead th {\n",
              "        text-align: right;\n",
              "    }\n",
              "</style>\n",
              "<table border=\"1\" class=\"dataframe\">\n",
              "  <thead>\n",
              "    <tr style=\"text-align: right;\">\n",
              "      <th></th>\n",
              "      <th>FID_NEW</th>\n",
              "      <th>bldg_id</th>\n",
              "      <th>elev</th>\n",
              "      <th>geometry</th>\n",
              "      <th>origin</th>\n",
              "      <th>parid_card</th>\n",
              "      <th>period</th>\n",
              "      <th>rmv_improv</th>\n",
              "      <th>rmv_land</th>\n",
              "      <th>stat_class</th>\n",
              "      <th>str_prob</th>\n",
              "      <th>tract_id</th>\n",
              "      <th>x</th>\n",
              "      <th>y</th>\n",
              "    </tr>\n",
              "  </thead>\n",
              "  <tbody>\n",
              "    <tr>\n",
              "      <th>0</th>\n",
              "      <td>5783</td>\n",
              "      <td>None</td>\n",
              "      <td>-1.037119</td>\n",
              "      <td>POINT (-123.90900 46.01433)</td>\n",
              "      <td>1</td>\n",
              "      <td>None</td>\n",
              "      <td>0.35</td>\n",
              "      <td>0.0</td>\n",
              "      <td>0.0</td>\n",
              "      <td>193</td>\n",
              "      <td>None</td>\n",
              "      <td>None</td>\n",
              "      <td>-123.908997</td>\n",
              "      <td>46.014336</td>\n",
              "    </tr>\n",
              "    <tr>\n",
              "      <th>1</th>\n",
              "      <td>5782</td>\n",
              "      <td>None</td>\n",
              "      <td>-14.826966</td>\n",
              "      <td>POINT (-123.90585 45.99795)</td>\n",
              "      <td>1</td>\n",
              "      <td>None</td>\n",
              "      <td>0.35</td>\n",
              "      <td>0.0</td>\n",
              "      <td>0.0</td>\n",
              "      <td>193</td>\n",
              "      <td>None</td>\n",
              "      <td>None</td>\n",
              "      <td>-123.905846</td>\n",
              "      <td>45.997948</td>\n",
              "    </tr>\n",
              "    <tr>\n",
              "      <th>2</th>\n",
              "      <td>5781</td>\n",
              "      <td>None</td>\n",
              "      <td>-1.037119</td>\n",
              "      <td>POINT (-123.90900 46.01433)</td>\n",
              "      <td>1</td>\n",
              "      <td>None</td>\n",
              "      <td>0.35</td>\n",
              "      <td>0.0</td>\n",
              "      <td>0.0</td>\n",
              "      <td>191</td>\n",
              "      <td>None</td>\n",
              "      <td>None</td>\n",
              "      <td>-123.908997</td>\n",
              "      <td>46.014336</td>\n",
              "    </tr>\n",
              "    <tr>\n",
              "      <th>3</th>\n",
              "      <td>5780</td>\n",
              "      <td>None</td>\n",
              "      <td>-1.037119</td>\n",
              "      <td>POINT (-123.90900 46.01433)</td>\n",
              "      <td>1</td>\n",
              "      <td>None</td>\n",
              "      <td>0.35</td>\n",
              "      <td>0.0</td>\n",
              "      <td>0.0</td>\n",
              "      <td>193</td>\n",
              "      <td>None</td>\n",
              "      <td>None</td>\n",
              "      <td>-123.908997</td>\n",
              "      <td>46.014336</td>\n",
              "    </tr>\n",
              "    <tr>\n",
              "      <th>4</th>\n",
              "      <td>5779</td>\n",
              "      <td>None</td>\n",
              "      <td>-1.729172</td>\n",
              "      <td>POINT (-123.91183 45.99747)</td>\n",
              "      <td>1</td>\n",
              "      <td>None</td>\n",
              "      <td>0.35</td>\n",
              "      <td>0.0</td>\n",
              "      <td>0.0</td>\n",
              "      <td>190</td>\n",
              "      <td>None</td>\n",
              "      <td>None</td>\n",
              "      <td>-123.911827</td>\n",
              "      <td>45.997475</td>\n",
              "    </tr>\n",
              "  </tbody>\n",
              "</table>\n",
              "</div>"
            ],
            "text/plain": [
              "  FID_NEW bldg_id       elev                     geometry origin parid_card  \\\n",
              "0    5783    None  -1.037119  POINT (-123.90900 46.01433)      1       None   \n",
              "1    5782    None -14.826966  POINT (-123.90585 45.99795)      1       None   \n",
              "2    5781    None  -1.037119  POINT (-123.90900 46.01433)      1       None   \n",
              "3    5780    None  -1.037119  POINT (-123.90900 46.01433)      1       None   \n",
              "4    5779    None  -1.729172  POINT (-123.91183 45.99747)      1       None   \n",
              "\n",
              "   period  rmv_improv  rmv_land stat_class str_prob tract_id           x  \\\n",
              "0    0.35         0.0       0.0        193     None     None -123.908997   \n",
              "1    0.35         0.0       0.0        193     None     None -123.905846   \n",
              "2    0.35         0.0       0.0        191     None     None -123.908997   \n",
              "3    0.35         0.0       0.0        193     None     None -123.908997   \n",
              "4    0.35         0.0       0.0        190     None     None -123.911827   \n",
              "\n",
              "           y  \n",
              "0  46.014336  \n",
              "1  45.997948  \n",
              "2  46.014336  \n",
              "3  46.014336  \n",
              "4  45.997475  "
            ]
          },
          "metadata": {
            "tags": []
          },
          "execution_count": 90
        }
      ]
    },
    {
      "cell_type": "code",
      "metadata": {
        "id": "mfsAUIjTHcG8",
        "outputId": "1a6eb383-d0ee-4c88-fff0-cf5c62ca4ce4"
      },
      "source": [
        "gdf_new.elev.describe()"
      ],
      "execution_count": null,
      "outputs": [
        {
          "output_type": "execute_result",
          "data": {
            "text/plain": [
              "count    4679.000000\n",
              "mean       -4.117446\n",
              "std         3.774860\n",
              "min       -14.997761\n",
              "25%        -4.181592\n",
              "50%        -3.151248\n",
              "75%        -2.119257\n",
              "max         1.690376\n",
              "Name: elev, dtype: float64"
            ]
          },
          "metadata": {
            "tags": []
          },
          "execution_count": 75
        }
      ]
    },
    {
      "cell_type": "code",
      "metadata": {
        "id": "pF2JjMPuHcG8",
        "outputId": "0bc33773-3350-4465-aa5a-519acd6b91e9"
      },
      "source": [
        "gdf_new.origin.describe()"
      ],
      "execution_count": null,
      "outputs": [
        {
          "output_type": "execute_result",
          "data": {
            "text/plain": [
              "count     4679\n",
              "unique       2\n",
              "top          1\n",
              "freq      4677\n",
              "Name: origin, dtype: object"
            ]
          },
          "metadata": {
            "tags": []
          },
          "execution_count": 69
        }
      ]
    },
    {
      "cell_type": "code",
      "metadata": {
        "id": "M0gb2758HcG9",
        "outputId": "bf8a3df4-038f-413e-b5e6-27e5a2bd3235"
      },
      "source": [
        "gdf_new.parid_card.describe()"
      ],
      "execution_count": null,
      "outputs": [
        {
          "output_type": "execute_result",
          "data": {
            "text/plain": [
              "count     0\n",
              "unique    0\n",
              "Name: parid_card, dtype: int64"
            ]
          },
          "metadata": {
            "tags": []
          },
          "execution_count": 71
        }
      ]
    },
    {
      "cell_type": "code",
      "metadata": {
        "scrolled": true,
        "id": "MgTD_w5mHcG9",
        "outputId": "1b8448da-6c78-468f-fef7-35c40bc31d94"
      },
      "source": [
        "gdf_new.period.describe()"
      ],
      "execution_count": null,
      "outputs": [
        {
          "output_type": "execute_result",
          "data": {
            "text/plain": [
              "count    4679.000000\n",
              "mean        0.446516\n",
              "std         0.156745\n",
              "min         0.350000\n",
              "25%         0.350000\n",
              "50%         0.350000\n",
              "75%         0.400000\n",
              "max         0.750000\n",
              "Name: period, dtype: float64"
            ]
          },
          "metadata": {
            "tags": []
          },
          "execution_count": 72
        }
      ]
    },
    {
      "cell_type": "markdown",
      "metadata": {
        "id": "MgEnsA2BHcG9"
      },
      "source": [
        "## Harmonize Building Value Variables"
      ]
    },
    {
      "cell_type": "code",
      "metadata": {
        "id": "ALqc3nbUHcG9",
        "outputId": "efd97820-49ef-4356-986c-fffbdf0e7401"
      },
      "source": [
        "gdf_new.rmv_improv.describe()"
      ],
      "execution_count": null,
      "outputs": [
        {
          "output_type": "execute_result",
          "data": {
            "text/plain": [
              "count    4.679000e+03\n",
              "mean     1.749143e+05\n",
              "std      4.824592e+05\n",
              "min      0.000000e+00\n",
              "25%      6.624350e+04\n",
              "50%      1.131320e+05\n",
              "75%      1.926190e+05\n",
              "max      1.769744e+07\n",
              "Name: rmv_improv, dtype: float64"
            ]
          },
          "metadata": {
            "tags": []
          },
          "execution_count": 73
        }
      ]
    },
    {
      "cell_type": "code",
      "metadata": {
        "id": "9uifbGmmHcG-",
        "outputId": "a9d67c8f-0566-446d-b950-49c209e9e7cc"
      },
      "source": [
        "gdf_new.rmv_land.describe()"
      ],
      "execution_count": null,
      "outputs": [
        {
          "output_type": "execute_result",
          "data": {
            "text/plain": [
              "count    4.679000e+03\n",
              "mean     1.449074e+05\n",
              "std      2.646332e+05\n",
              "min      0.000000e+00\n",
              "25%      0.000000e+00\n",
              "50%      1.005870e+05\n",
              "75%      1.546440e+05\n",
              "max      6.453285e+06\n",
              "Name: rmv_land, dtype: float64"
            ]
          },
          "metadata": {
            "tags": []
          },
          "execution_count": 74
        }
      ]
    },
    {
      "cell_type": "code",
      "metadata": {
        "id": "ScOiItjhHcG-",
        "outputId": "a68edc59-59c6-47ec-a667-6bf762519ab4"
      },
      "source": [
        "gdf_new.appr_bldg.describe()"
      ],
      "execution_count": null,
      "outputs": [
        {
          "output_type": "execute_result",
          "data": {
            "text/plain": [
              "count       4679\n",
              "unique      3913\n",
              "top       121253\n",
              "freq          42\n",
              "Name: appr_bldg, dtype: object"
            ]
          },
          "metadata": {
            "tags": []
          },
          "execution_count": 83
        }
      ]
    },
    {
      "cell_type": "code",
      "metadata": {
        "id": "nlKVf9SvHcG-"
      },
      "source": [
        "gdf_new.appr_bldg = gdf_new.appr_bldg.astype(int)"
      ],
      "execution_count": null,
      "outputs": []
    },
    {
      "cell_type": "code",
      "metadata": {
        "id": "jTTgM2s2HcG-",
        "outputId": "236f7894-c936-47b0-8f8c-cdc4b3e67546"
      },
      "source": [
        "gdf_new.appr_bldg.describe()"
      ],
      "execution_count": null,
      "outputs": [
        {
          "output_type": "execute_result",
          "data": {
            "text/plain": [
              "count    4.679000e+03\n",
              "mean     3.208858e+05\n",
              "std      6.428265e+05\n",
              "min      0.000000e+00\n",
              "25%      1.572930e+05\n",
              "50%      2.245680e+05\n",
              "75%      3.179700e+05\n",
              "max      1.901118e+07\n",
              "Name: appr_bldg, dtype: float64"
            ]
          },
          "metadata": {
            "tags": []
          },
          "execution_count": 92
        }
      ]
    },
    {
      "cell_type": "code",
      "metadata": {
        "id": "lwTCMceZHcG_",
        "outputId": "17dfddcb-cf85-4b57-bf1b-a5e5c61ebe0c"
      },
      "source": [
        "import matplotlib.pyplot as plt\n",
        "# Scatter Plot\n",
        "plt.scatter(gdf_new['appr_bldg'], gdf_new['rmv_improv'])\n",
        "plt.title('Scatter plot appr_bldg  vs rmv_improv')\n",
        "plt.xlabel('appr_bldg')\n",
        "plt.ylabel('rmv_improv')\n",
        "plt.show()"
      ],
      "execution_count": null,
      "outputs": [
        {
          "output_type": "display_data",
          "data": {
            "image/png": "[encoded data removed]",
            "text/plain": [
              "<Figure size 432x288 with 1 Axes>"
            ]
          },
          "metadata": {
            "tags": [],
            "needs_background": "light"
          }
        }
      ]
    },
    {
      "cell_type": "code",
      "metadata": {
        "id": "fhV1osPBHcG_",
        "outputId": "fca8de68-aff4-453b-d136-a926a1a02610"
      },
      "source": [
        "# Correlation\n",
        "gdf_new[['appr_bldg','rmv_improv']].corr()"
      ],
      "execution_count": null,
      "outputs": [
        {
          "output_type": "execute_result",
          "data": {
            "text/html": [
              "<div>\n",
              "<style scoped>\n",
              "    .dataframe tbody tr th:only-of-type {\n",
              "        vertical-align: middle;\n",
              "    }\n",
              "\n",
              "    .dataframe tbody tr th {\n",
              "        vertical-align: top;\n",
              "    }\n",
              "\n",
              "    .dataframe thead th {\n",
              "        text-align: right;\n",
              "    }\n",
              "</style>\n",
              "<table border=\"1\" class=\"dataframe\">\n",
              "  <thead>\n",
              "    <tr style=\"text-align: right;\">\n",
              "      <th></th>\n",
              "      <th>appr_bldg</th>\n",
              "      <th>rmv_improv</th>\n",
              "    </tr>\n",
              "  </thead>\n",
              "  <tbody>\n",
              "    <tr>\n",
              "      <th>appr_bldg</th>\n",
              "      <td>1.000000</td>\n",
              "      <td>0.928989</td>\n",
              "    </tr>\n",
              "    <tr>\n",
              "      <th>rmv_improv</th>\n",
              "      <td>0.928989</td>\n",
              "      <td>1.000000</td>\n",
              "    </tr>\n",
              "  </tbody>\n",
              "</table>\n",
              "</div>"
            ],
            "text/plain": [
              "            appr_bldg  rmv_improv\n",
              "appr_bldg    1.000000    0.928989\n",
              "rmv_improv   0.928989    1.000000"
            ]
          },
          "metadata": {
            "tags": []
          },
          "execution_count": 94
        }
      ]
    },
    {
      "cell_type": "code",
      "metadata": {
        "id": "9d2_b0utHcHA",
        "outputId": "6641f2c4-8604-465d-ed55-32de4bed5383"
      },
      "source": [
        "gdf_new[['rmv_improv','appr_bldg']].corr()"
      ],
      "execution_count": null,
      "outputs": [
        {
          "output_type": "execute_result",
          "data": {
            "text/html": [
              "<div>\n",
              "<style scoped>\n",
              "    .dataframe tbody tr th:only-of-type {\n",
              "        vertical-align: middle;\n",
              "    }\n",
              "\n",
              "    .dataframe tbody tr th {\n",
              "        vertical-align: top;\n",
              "    }\n",
              "\n",
              "    .dataframe thead th {\n",
              "        text-align: right;\n",
              "    }\n",
              "</style>\n",
              "<table border=\"1\" class=\"dataframe\">\n",
              "  <thead>\n",
              "    <tr style=\"text-align: right;\">\n",
              "      <th></th>\n",
              "      <th>rmv_improv</th>\n",
              "      <th>appr_bldg</th>\n",
              "    </tr>\n",
              "  </thead>\n",
              "  <tbody>\n",
              "    <tr>\n",
              "      <th>rmv_improv</th>\n",
              "      <td>1.000000</td>\n",
              "      <td>0.928989</td>\n",
              "    </tr>\n",
              "    <tr>\n",
              "      <th>appr_bldg</th>\n",
              "      <td>0.928989</td>\n",
              "      <td>1.000000</td>\n",
              "    </tr>\n",
              "  </tbody>\n",
              "</table>\n",
              "</div>"
            ],
            "text/plain": [
              "            rmv_improv  appr_bldg\n",
              "rmv_improv    1.000000   0.928989\n",
              "appr_bldg     0.928989   1.000000"
            ]
          },
          "metadata": {
            "tags": []
          },
          "execution_count": 95
        }
      ]
    },
    {
      "cell_type": "code",
      "metadata": {
        "id": "Y6Y_DK_CHcHA",
        "outputId": "cb8b8c2f-dfdb-4e36-ab43-0cbbb4e57295"
      },
      "source": [
        "gdf_new['value_match'] = 0\n",
        "gdf_new.loc[(gdf_new['rmv_improv'] == gdf_new['appr_bldg']), 'value_match'] = 1\n",
        "gdf_new['value_match'].describe()"
      ],
      "execution_count": null,
      "outputs": [
        {
          "output_type": "execute_result",
          "data": {
            "text/plain": [
              "count    4679.000000\n",
              "mean        0.223979\n",
              "std         0.416953\n",
              "min         0.000000\n",
              "25%         0.000000\n",
              "50%         0.000000\n",
              "75%         0.000000\n",
              "max         1.000000\n",
              "Name: value_match, dtype: float64"
            ]
          },
          "metadata": {
            "tags": []
          },
          "execution_count": 102
        }
      ]
    },
    {
      "cell_type": "markdown",
      "metadata": {
        "id": "efn3VpnvHcHA"
      },
      "source": [
        "## Harmonize Occupancy Type\n",
        "Broad HAZUS Occupancy Category (e.g. RES3 - multi-family residential)"
      ]
    },
    {
      "cell_type": "code",
      "metadata": {
        "id": "zJkFpn1WHcHB",
        "outputId": "edad4c6e-979b-4727-fca9-64068d51b2a3"
      },
      "source": [
        "gdf_new.occ_type.describe()"
      ],
      "execution_count": null,
      "outputs": [
        {
          "output_type": "execute_result",
          "data": {
            "text/plain": [
              "count     0\n",
              "unique    0\n",
              "Name: occ_type, dtype: int64"
            ]
          },
          "metadata": {
            "tags": []
          },
          "execution_count": 79
        }
      ]
    },
    {
      "cell_type": "code",
      "metadata": {
        "id": "0pZWWYmKHcHB",
        "outputId": "3361fe6d-1ab4-4ed9-c74e-1b4364b7cc61"
      },
      "source": [
        "gdf_new.occ_typ2.describe()"
      ],
      "execution_count": null,
      "outputs": [
        {
          "output_type": "execute_result",
          "data": {
            "text/plain": [
              "count     0\n",
              "unique    0\n",
              "Name: occ_typ2, dtype: int64"
            ]
          },
          "metadata": {
            "tags": []
          },
          "execution_count": 81
        }
      ]
    },
    {
      "cell_type": "code",
      "metadata": {
        "id": "COaiwupsHcHB",
        "outputId": "d965758c-4f6c-4f59-8c42-93a03b2aab98"
      },
      "source": [
        "gdf_new.occ_detail.describe()"
      ],
      "execution_count": null,
      "outputs": [
        {
          "output_type": "execute_result",
          "data": {
            "text/plain": [
              "count     0\n",
              "unique    0\n",
              "Name: occ_detail, dtype: int64"
            ]
          },
          "metadata": {
            "tags": []
          },
          "execution_count": 82
        }
      ]
    },
    {
      "cell_type": "code",
      "metadata": {
        "id": "P0HBMm0oHcHB",
        "outputId": "efe7f1df-42b2-46a4-d4d2-b29c3f094438"
      },
      "source": [
        "gdf_new.stat_class.describe()"
      ],
      "execution_count": null,
      "outputs": [
        {
          "output_type": "execute_result",
          "data": {
            "text/plain": [
              "count     4679\n",
              "unique     126\n",
              "top        900\n",
              "freq       899\n",
              "Name: stat_class, dtype: object"
            ]
          },
          "metadata": {
            "tags": []
          },
          "execution_count": 80
        }
      ]
    },
    {
      "cell_type": "code",
      "metadata": {
        "id": "t8vFELf6HcHC"
      },
      "source": [
        ""
      ],
      "execution_count": null,
      "outputs": []
    },
    {
      "cell_type": "markdown",
      "metadata": {
        "id": "2ll64PmpgH7a"
      },
      "source": [
        "### Check the Coordinate Reference System"
      ]
    },
    {
      "cell_type": "code",
      "metadata": {
        "id": "QyV1vbqvgH7a",
        "outputId": "982358ac-a36a-4f21-a2a5-22bac58ce4b5"
      },
      "source": [
        "type(gdf_new.crs)"
      ],
      "execution_count": null,
      "outputs": [
        {
          "output_type": "execute_result",
          "data": {
            "text/plain": [
              "NoneType"
            ]
          },
          "metadata": {
            "tags": []
          },
          "execution_count": 103
        }
      ]
    },
    {
      "cell_type": "code",
      "metadata": {
        "id": "ZAxvDSdqgH7b"
      },
      "source": [
        "gdf_new.crs"
      ],
      "execution_count": null,
      "outputs": []
    },
    {
      "cell_type": "code",
      "metadata": {
        "id": "ss42C9CkHcHD",
        "outputId": "022f32a2-9a45-4fec-a3e1-559e9af65d5e"
      },
      "source": [
        "gdf_new['geometry'].head()"
      ],
      "execution_count": null,
      "outputs": [
        {
          "output_type": "execute_result",
          "data": {
            "text/plain": [
              "0    POINT (-123.90900 46.01433)\n",
              "1    POINT (-123.90585 45.99795)\n",
              "2    POINT (-123.90900 46.01433)\n",
              "3    POINT (-123.90900 46.01433)\n",
              "4    POINT (-123.91183 45.99747)\n",
              "Name: geometry, dtype: geometry"
            ]
          },
          "metadata": {
            "tags": []
          },
          "execution_count": 105
        }
      ]
    },
    {
      "cell_type": "code",
      "metadata": {
        "id": "CBdIUYXyHcHD",
        "outputId": "66018af6-8816-4121-bfd8-6cdcabc0cf1d"
      },
      "source": [
        "gdf_new.crs = \"EPSG:4269\"\n",
        "gdf_new['geometry'].head()"
      ],
      "execution_count": null,
      "outputs": [
        {
          "output_type": "execute_result",
          "data": {
            "text/plain": [
              "0    POINT (-123.90900 46.01433)\n",
              "1    POINT (-123.90585 45.99795)\n",
              "2    POINT (-123.90900 46.01433)\n",
              "3    POINT (-123.90900 46.01433)\n",
              "4    POINT (-123.91183 45.99747)\n",
              "Name: geometry, dtype: geometry"
            ]
          },
          "metadata": {
            "tags": []
          },
          "execution_count": 108
        }
      ]
    },
    {
      "cell_type": "code",
      "metadata": {
        "id": "Fn9z8WjlHcHD",
        "outputId": "2b7883c9-638e-4c87-b2fc-c4b8f1a9bc85"
      },
      "source": [
        "gdf_new.crs"
      ],
      "execution_count": null,
      "outputs": [
        {
          "output_type": "execute_result",
          "data": {
            "text/plain": [
              "<Geographic 2D CRS: EPSG:4269>\n",
              "Name: NAD83\n",
              "Axis Info [ellipsoidal]:\n",
              "- Lat[north]: Geodetic latitude (degree)\n",
              "- Lon[east]: Geodetic longitude (degree)\n",
              "Area of Use:\n",
              "- name: North America - NAD83\n",
              "- bounds: (167.65, 14.92, -47.74, 86.46)\n",
              "Datum: North American Datum 1983\n",
              "- Ellipsoid: GRS 1980\n",
              "- Prime Meridian: Greenwich"
            ]
          },
          "metadata": {
            "tags": []
          },
          "execution_count": 109
        }
      ]
    },
    {
      "cell_type": "markdown",
      "metadata": {
        "id": "c6bNHvxwgH7b"
      },
      "source": [
        "### Save as Shapefile"
      ]
    },
    {
      "cell_type": "code",
      "metadata": {
        "id": "a6tfIQXRgH7b"
      },
      "source": [
        "gdf.to_file(\"IN-CORE_Seaside_BuildingInventory_2021-03-19.shp\")"
      ],
      "execution_count": null,
      "outputs": []
    },
    {
      "cell_type": "code",
      "metadata": {
        "id": "aYuLkZ3jHcHE"
      },
      "source": [
        ""
      ],
      "execution_count": null,
      "outputs": []
    }
  ]
}