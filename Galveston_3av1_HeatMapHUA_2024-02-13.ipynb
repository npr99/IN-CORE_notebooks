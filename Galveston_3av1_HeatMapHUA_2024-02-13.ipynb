{
 "cells": [
  {
   "cell_type": "code",
   "execution_count": 1,
   "metadata": {},
   "outputs": [
    {
     "name": "stderr",
     "output_type": "stream",
     "text": [
      "C:\\Users\\nathanael99\\AppData\\Local\\Temp\\ipykernel_3532\\1202127250.py:2: DeprecationWarning: \n",
      "Pyarrow will become a required dependency of pandas in the next major release of pandas (pandas 3.0),\n",
      "(to allow more performant data types, such as the Arrow string type, and better interoperability with other libraries)\n",
      "but was not found to be installed on your system.\n",
      "If this would cause problems for you,\n",
      "please provide us feedback at https://github.com/pandas-dev/pandas/issues/54466\n",
      "        \n",
      "  import pandas as pd\n"
     ]
    }
   ],
   "source": [
    "import os\n",
    "import pandas as pd\n",
    "import geopandas as gpd"
   ]
  },
  {
   "cell_type": "code",
   "execution_count": 2,
   "metadata": {},
   "outputs": [],
   "source": [
    "from pyincore import IncoreClient, Dataset, DataService, HazardService, FragilityService, MappingSet, FragilityCurveSet\n",
    "from pyincore_viz.geoutil import GeoUtil as geoviz\n",
    "from pyincore_viz.plotutil import PlotUtil as plotviz\n",
    "import pyincore_viz as viz"
   ]
  },
  {
   "cell_type": "code",
   "execution_count": 3,
   "metadata": {},
   "outputs": [
    {
     "data": {
      "text/plain": [
       "'c:\\\\MyProjects\\\\HRRCProjects\\\\IN-CORE\\\\WorkNPR\\\\github\\\\IN-CORE_notebooks'"
      ]
     },
     "execution_count": 3,
     "metadata": {},
     "output_type": "execute_result"
    }
   ],
   "source": [
    "# Check working directory - good practice for relative path access\n",
    "os.getcwd()"
   ]
  },
  {
   "cell_type": "code",
   "execution_count": 4,
   "metadata": {},
   "outputs": [
    {
     "name": "stdout",
     "output_type": "stream",
     "text": [
      "Connection successful to IN-CORE services. pyIncore version detected: 1.16.0\n"
     ]
    }
   ],
   "source": [
    "client = IncoreClient()\n",
    "# IN-CORE caches files on the local machine, it might be necessary to clear the memory\n",
    "#client.clear_cache() \n",
    "data_service = DataService(client) # create data_service object for loading files\n",
    "hazard_service = HazardService(client)\n",
    "fragility_services = FragilityService(client)"
   ]
  },
  {
   "cell_type": "code",
   "execution_count": 5,
   "metadata": {},
   "outputs": [
    {
     "name": "stdout",
     "output_type": "stream",
     "text": [
      "Dataset already exists locally. Reading from local cached zip.\n",
      "Unzipped folder found in the local cache. Reading from it...\n",
      "The IN-CORE Dataservice has saved the Housing Unit Allocation on your local machine: C:\\Users\\nathanael99\\.incore\\cache_data\\648c22dd689743dc9dedf242006adc5a9c21de9a89c016323dccfedef94f7737\\65173e4a6b7ce0714cdcd78f\\hua_v2-0-0_Galveston_TX_2010_rs1000_63ff6b135c35c0353d5ed3ac\\hua_v2-0-0_Galveston_TX_2010_rs1000_63ff6b135c35c0353d5ed3ac.csv\n"
     ]
    }
   ],
   "source": [
    "# Housing Unit Allocation\n",
    "housing_unit_allocation_id = \"65173e4a6b7ce0714cdcd78f\"\n",
    "# load housing unit allocation as pandas dataframe\n",
    "housing_unit_allocation = Dataset.from_data_service(housing_unit_allocation_id, data_service)\n",
    "filename = housing_unit_allocation.get_file_path('csv')\n",
    "print(\"The IN-CORE Dataservice has saved the Housing Unit Allocation on your local machine: \"+filename)"
   ]
  },
  {
   "cell_type": "code",
   "execution_count": 6,
   "metadata": {},
   "outputs": [
    {
     "data": {
      "text/html": [
       "<div>\n",
       "<style scoped>\n",
       "    .dataframe tbody tr th:only-of-type {\n",
       "        vertical-align: middle;\n",
       "    }\n",
       "\n",
       "    .dataframe tbody tr th {\n",
       "        vertical-align: top;\n",
       "    }\n",
       "\n",
       "    .dataframe thead th {\n",
       "        text-align: right;\n",
       "    }\n",
       "</style>\n",
       "<table border=\"1\" class=\"dataframe\">\n",
       "  <thead>\n",
       "    <tr style=\"text-align: right;\">\n",
       "      <th></th>\n",
       "      <th>huid</th>\n",
       "      <th>blockid</th>\n",
       "      <th>bgid</th>\n",
       "      <th>tractid</th>\n",
       "      <th>FIPScounty</th>\n",
       "      <th>numprec</th>\n",
       "      <th>ownershp</th>\n",
       "      <th>race</th>\n",
       "      <th>hispan</th>\n",
       "      <th>family</th>\n",
       "      <th>...</th>\n",
       "      <th>incomegroup</th>\n",
       "      <th>hhinc</th>\n",
       "      <th>randincome</th>\n",
       "      <th>poverty</th>\n",
       "      <th>BLOCKID10_str</th>\n",
       "      <th>guid</th>\n",
       "      <th>placeNAME10</th>\n",
       "      <th>huestimate</th>\n",
       "      <th>x</th>\n",
       "      <th>y</th>\n",
       "    </tr>\n",
       "  </thead>\n",
       "  <tbody>\n",
       "    <tr>\n",
       "      <th>0</th>\n",
       "      <td>B481677201001000H001</td>\n",
       "      <td>481677201001000</td>\n",
       "      <td>481677201001</td>\n",
       "      <td>48167720100</td>\n",
       "      <td>48167</td>\n",
       "      <td>1</td>\n",
       "      <td>1.0</td>\n",
       "      <td>1.0</td>\n",
       "      <td>0.0</td>\n",
       "      <td>0.0</td>\n",
       "      <td>...</td>\n",
       "      <td>6</td>\n",
       "      <td>3</td>\n",
       "      <td>31459.0</td>\n",
       "      <td>0.0</td>\n",
       "      <td>B481677201001000</td>\n",
       "      <td>missing building id</td>\n",
       "      <td>Friendswood</td>\n",
       "      <td>NaN</td>\n",
       "      <td>-95.211072</td>\n",
       "      <td>29.554253</td>\n",
       "    </tr>\n",
       "    <tr>\n",
       "      <th>1</th>\n",
       "      <td>B481677201001000H002</td>\n",
       "      <td>481677201001000</td>\n",
       "      <td>481677201001</td>\n",
       "      <td>48167720100</td>\n",
       "      <td>48167</td>\n",
       "      <td>1</td>\n",
       "      <td>1.0</td>\n",
       "      <td>1.0</td>\n",
       "      <td>0.0</td>\n",
       "      <td>0.0</td>\n",
       "      <td>...</td>\n",
       "      <td>6</td>\n",
       "      <td>3</td>\n",
       "      <td>34695.0</td>\n",
       "      <td>0.0</td>\n",
       "      <td>B481677201001000</td>\n",
       "      <td>missing building id</td>\n",
       "      <td>Friendswood</td>\n",
       "      <td>NaN</td>\n",
       "      <td>-95.211072</td>\n",
       "      <td>29.554253</td>\n",
       "    </tr>\n",
       "    <tr>\n",
       "      <th>2</th>\n",
       "      <td>B481677201001000H003</td>\n",
       "      <td>481677201001000</td>\n",
       "      <td>481677201001</td>\n",
       "      <td>48167720100</td>\n",
       "      <td>48167</td>\n",
       "      <td>1</td>\n",
       "      <td>1.0</td>\n",
       "      <td>1.0</td>\n",
       "      <td>0.0</td>\n",
       "      <td>0.0</td>\n",
       "      <td>...</td>\n",
       "      <td>7</td>\n",
       "      <td>3</td>\n",
       "      <td>38776.0</td>\n",
       "      <td>0.0</td>\n",
       "      <td>B481677201001000</td>\n",
       "      <td>missing building id</td>\n",
       "      <td>Friendswood</td>\n",
       "      <td>NaN</td>\n",
       "      <td>-95.211072</td>\n",
       "      <td>29.554253</td>\n",
       "    </tr>\n",
       "    <tr>\n",
       "      <th>3</th>\n",
       "      <td>B481677201001000H004</td>\n",
       "      <td>481677201001000</td>\n",
       "      <td>481677201001</td>\n",
       "      <td>48167720100</td>\n",
       "      <td>48167</td>\n",
       "      <td>1</td>\n",
       "      <td>1.0</td>\n",
       "      <td>1.0</td>\n",
       "      <td>0.0</td>\n",
       "      <td>0.0</td>\n",
       "      <td>...</td>\n",
       "      <td>10</td>\n",
       "      <td>3</td>\n",
       "      <td>52398.0</td>\n",
       "      <td>0.0</td>\n",
       "      <td>B481677201001000</td>\n",
       "      <td>missing building id</td>\n",
       "      <td>Friendswood</td>\n",
       "      <td>NaN</td>\n",
       "      <td>-95.211072</td>\n",
       "      <td>29.554253</td>\n",
       "    </tr>\n",
       "    <tr>\n",
       "      <th>4</th>\n",
       "      <td>B481677201001000H005</td>\n",
       "      <td>481677201001000</td>\n",
       "      <td>481677201001</td>\n",
       "      <td>48167720100</td>\n",
       "      <td>48167</td>\n",
       "      <td>1</td>\n",
       "      <td>1.0</td>\n",
       "      <td>1.0</td>\n",
       "      <td>0.0</td>\n",
       "      <td>0.0</td>\n",
       "      <td>...</td>\n",
       "      <td>11</td>\n",
       "      <td>3</td>\n",
       "      <td>69564.0</td>\n",
       "      <td>0.0</td>\n",
       "      <td>B481677201001000</td>\n",
       "      <td>missing building id</td>\n",
       "      <td>Friendswood</td>\n",
       "      <td>NaN</td>\n",
       "      <td>-95.211072</td>\n",
       "      <td>29.554253</td>\n",
       "    </tr>\n",
       "  </tbody>\n",
       "</table>\n",
       "<p>5 rows × 22 columns</p>\n",
       "</div>"
      ],
      "text/plain": [
       "                   huid          blockid          bgid      tractid  \\\n",
       "0  B481677201001000H001  481677201001000  481677201001  48167720100   \n",
       "1  B481677201001000H002  481677201001000  481677201001  48167720100   \n",
       "2  B481677201001000H003  481677201001000  481677201001  48167720100   \n",
       "3  B481677201001000H004  481677201001000  481677201001  48167720100   \n",
       "4  B481677201001000H005  481677201001000  481677201001  48167720100   \n",
       "\n",
       "   FIPScounty  numprec  ownershp  race  hispan  family  ...  incomegroup  \\\n",
       "0       48167        1       1.0   1.0     0.0     0.0  ...            6   \n",
       "1       48167        1       1.0   1.0     0.0     0.0  ...            6   \n",
       "2       48167        1       1.0   1.0     0.0     0.0  ...            7   \n",
       "3       48167        1       1.0   1.0     0.0     0.0  ...           10   \n",
       "4       48167        1       1.0   1.0     0.0     0.0  ...           11   \n",
       "\n",
       "   hhinc  randincome  poverty     BLOCKID10_str                 guid  \\\n",
       "0      3     31459.0      0.0  B481677201001000  missing building id   \n",
       "1      3     34695.0      0.0  B481677201001000  missing building id   \n",
       "2      3     38776.0      0.0  B481677201001000  missing building id   \n",
       "3      3     52398.0      0.0  B481677201001000  missing building id   \n",
       "4      3     69564.0      0.0  B481677201001000  missing building id   \n",
       "\n",
       "   placeNAME10 huestimate          x          y  \n",
       "0  Friendswood        NaN -95.211072  29.554253  \n",
       "1  Friendswood        NaN -95.211072  29.554253  \n",
       "2  Friendswood        NaN -95.211072  29.554253  \n",
       "3  Friendswood        NaN -95.211072  29.554253  \n",
       "4  Friendswood        NaN -95.211072  29.554253  \n",
       "\n",
       "[5 rows x 22 columns]"
      ]
     },
     "execution_count": 6,
     "metadata": {},
     "output_type": "execute_result"
    }
   ],
   "source": [
    "hua_df = pd.read_csv(filename, header=\"infer\")\n",
    "hua_df.head()"
   ]
  },
  {
   "cell_type": "markdown",
   "metadata": {},
   "source": [
    "## Clean Data\n",
    "Select data for Galveston Island. Which is the city of Galveston and Jamaica Beach."
   ]
  },
  {
   "cell_type": "code",
   "execution_count": 7,
   "metadata": {},
   "outputs": [
    {
     "data": {
      "text/plain": [
       "<Axes: >"
      ]
     },
     "execution_count": 7,
     "metadata": {},
     "output_type": "execute_result"
    },
    {
     "data": {
      "image/png": "[encoded data removed]",
      "text/plain": [
       "<Figure size 640x480 with 1 Axes>"
      ]
     },
     "metadata": {},
     "output_type": "display_data"
    }
   ],
   "source": [
    "# convert dataframe to geodataframe\n",
    "hua_gdf = gpd.GeoDataFrame(hua_df, geometry=gpd.points_from_xy(hua_df.x, hua_df.y))\n",
    "hua_gdf.crs = \"EPSG:4326\"\n",
    "# plot data\n",
    "hua_gdf.plot()"
   ]
  },
  {
   "cell_type": "code",
   "execution_count": 8,
   "metadata": {},
   "outputs": [
    {
     "data": {
      "text/html": [
       "<div>\n",
       "<style scoped>\n",
       "    .dataframe tbody tr th:only-of-type {\n",
       "        vertical-align: middle;\n",
       "    }\n",
       "\n",
       "    .dataframe tbody tr th {\n",
       "        vertical-align: top;\n",
       "    }\n",
       "\n",
       "    .dataframe thead th {\n",
       "        text-align: right;\n",
       "    }\n",
       "</style>\n",
       "<table border=\"1\" class=\"dataframe\">\n",
       "  <thead>\n",
       "    <tr style=\"text-align: right;\">\n",
       "      <th></th>\n",
       "      <th>numprec</th>\n",
       "    </tr>\n",
       "    <tr>\n",
       "      <th>placeNAME10</th>\n",
       "      <th></th>\n",
       "    </tr>\n",
       "  </thead>\n",
       "  <tbody>\n",
       "    <tr>\n",
       "      <th>Bacliff</th>\n",
       "      <td>8521</td>\n",
       "    </tr>\n",
       "    <tr>\n",
       "      <th>Bayou Vista</th>\n",
       "      <td>1537</td>\n",
       "    </tr>\n",
       "    <tr>\n",
       "      <th>Bolivar Peninsula</th>\n",
       "      <td>2405</td>\n",
       "    </tr>\n",
       "    <tr>\n",
       "      <th>Clear Lake Shores</th>\n",
       "      <td>1063</td>\n",
       "    </tr>\n",
       "    <tr>\n",
       "      <th>Dickinson</th>\n",
       "      <td>18533</td>\n",
       "    </tr>\n",
       "    <tr>\n",
       "      <th>Friendswood</th>\n",
       "      <td>25436</td>\n",
       "    </tr>\n",
       "    <tr>\n",
       "      <th>Galveston</th>\n",
       "      <td>47453</td>\n",
       "    </tr>\n",
       "    <tr>\n",
       "      <th>Hitchcock</th>\n",
       "      <td>6910</td>\n",
       "    </tr>\n",
       "    <tr>\n",
       "      <th>Jamaica Beach</th>\n",
       "      <td>983</td>\n",
       "    </tr>\n",
       "    <tr>\n",
       "      <th>Kemah</th>\n",
       "      <td>1768</td>\n",
       "    </tr>\n",
       "    <tr>\n",
       "      <th>La Marque</th>\n",
       "      <td>14406</td>\n",
       "    </tr>\n",
       "    <tr>\n",
       "      <th>League City</th>\n",
       "      <td>81742</td>\n",
       "    </tr>\n",
       "    <tr>\n",
       "      <th>San Leon</th>\n",
       "      <td>4928</td>\n",
       "    </tr>\n",
       "    <tr>\n",
       "      <th>Santa Fe</th>\n",
       "      <td>12162</td>\n",
       "    </tr>\n",
       "    <tr>\n",
       "      <th>Texas City</th>\n",
       "      <td>44818</td>\n",
       "    </tr>\n",
       "    <tr>\n",
       "      <th>Tiki Island</th>\n",
       "      <td>968</td>\n",
       "    </tr>\n",
       "    <tr>\n",
       "      <th>Unincorporated</th>\n",
       "      <td>16199</td>\n",
       "    </tr>\n",
       "  </tbody>\n",
       "</table>\n",
       "</div>"
      ],
      "text/plain": [
       "                   numprec\n",
       "placeNAME10               \n",
       "Bacliff               8521\n",
       "Bayou Vista           1537\n",
       "Bolivar Peninsula     2405\n",
       "Clear Lake Shores     1063\n",
       "Dickinson            18533\n",
       "Friendswood          25436\n",
       "Galveston            47453\n",
       "Hitchcock             6910\n",
       "Jamaica Beach          983\n",
       "Kemah                 1768\n",
       "La Marque            14406\n",
       "League City          81742\n",
       "San Leon              4928\n",
       "Santa Fe             12162\n",
       "Texas City           44818\n",
       "Tiki Island            968\n",
       "Unincorporated       16199"
      ]
     },
     "execution_count": 8,
     "metadata": {},
     "output_type": "execute_result"
    }
   ],
   "source": [
    "# list all unique values of placeNAME10 with sum of people\n",
    "hua_gdf[['numprec','placeNAME10']].groupby('placeNAME10').sum()"
   ]
  },
  {
   "cell_type": "code",
   "execution_count": 9,
   "metadata": {},
   "outputs": [],
   "source": [
    "# select if placeNAME10 Galveston or Jamaica Beach\n",
    "hua_gdf_island = hua_gdf[hua_df['placeNAME10'].isin(['Galveston','Jamaica Beach'])].copy(deep=True)"
   ]
  },
  {
   "cell_type": "code",
   "execution_count": 10,
   "metadata": {},
   "outputs": [
    {
     "data": {
      "text/html": [
       "<div>\n",
       "<style scoped>\n",
       "    .dataframe tbody tr th:only-of-type {\n",
       "        vertical-align: middle;\n",
       "    }\n",
       "\n",
       "    .dataframe tbody tr th {\n",
       "        vertical-align: top;\n",
       "    }\n",
       "\n",
       "    .dataframe thead th {\n",
       "        text-align: right;\n",
       "    }\n",
       "</style>\n",
       "<table border=\"1\" class=\"dataframe\">\n",
       "  <thead>\n",
       "    <tr style=\"text-align: right;\">\n",
       "      <th></th>\n",
       "      <th>numprec</th>\n",
       "    </tr>\n",
       "    <tr>\n",
       "      <th>placeNAME10</th>\n",
       "      <th></th>\n",
       "    </tr>\n",
       "  </thead>\n",
       "  <tbody>\n",
       "    <tr>\n",
       "      <th>Galveston</th>\n",
       "      <td>47453</td>\n",
       "    </tr>\n",
       "    <tr>\n",
       "      <th>Jamaica Beach</th>\n",
       "      <td>983</td>\n",
       "    </tr>\n",
       "  </tbody>\n",
       "</table>\n",
       "</div>"
      ],
      "text/plain": [
       "               numprec\n",
       "placeNAME10           \n",
       "Galveston        47453\n",
       "Jamaica Beach      983"
      ]
     },
     "execution_count": 10,
     "metadata": {},
     "output_type": "execute_result"
    }
   ],
   "source": [
    "hua_gdf_island[['numprec','placeNAME10']].groupby('placeNAME10').sum()"
   ]
  },
  {
   "cell_type": "code",
   "execution_count": 11,
   "metadata": {},
   "outputs": [
    {
     "data": {
      "text/plain": [
       "<Axes: >"
      ]
     },
     "execution_count": 11,
     "metadata": {},
     "output_type": "execute_result"
    },
    {
     "data": {
      "image/png": "[encoded data removed]",
      "text/plain": [
       "<Figure size 640x480 with 1 Axes>"
      ]
     },
     "metadata": {},
     "output_type": "display_data"
    }
   ],
   "source": [
    "# plot data\n",
    "hua_gdf_island.plot()"
   ]
  },
  {
   "cell_type": "code",
   "execution_count": 13,
   "metadata": {},
   "outputs": [
    {
     "data": {
      "text/html": [
       "<div>\n",
       "<style scoped>\n",
       "    .dataframe tbody tr th:only-of-type {\n",
       "        vertical-align: middle;\n",
       "    }\n",
       "\n",
       "    .dataframe tbody tr th {\n",
       "        vertical-align: top;\n",
       "    }\n",
       "\n",
       "    .dataframe thead th {\n",
       "        text-align: right;\n",
       "    }\n",
       "</style>\n",
       "<table border=\"1\" class=\"dataframe\">\n",
       "  <thead>\n",
       "    <tr style=\"text-align: right;\">\n",
       "      <th></th>\n",
       "      <th>numprec</th>\n",
       "    </tr>\n",
       "    <tr>\n",
       "      <th>placeNAME10</th>\n",
       "      <th></th>\n",
       "    </tr>\n",
       "  </thead>\n",
       "  <tbody>\n",
       "    <tr>\n",
       "      <th>Galveston</th>\n",
       "      <td>11023</td>\n",
       "    </tr>\n",
       "    <tr>\n",
       "      <th>Jamaica Beach</th>\n",
       "      <td>81</td>\n",
       "    </tr>\n",
       "  </tbody>\n",
       "</table>\n",
       "</div>"
      ],
      "text/plain": [
       "               numprec\n",
       "placeNAME10           \n",
       "Galveston        11023\n",
       "Jamaica Beach       81"
      ]
     },
     "execution_count": 13,
     "metadata": {},
     "output_type": "execute_result"
    }
   ],
   "source": [
    "# select observations where poverty = 1\n",
    "hua_gdf_island_poverty = hua_gdf_island[hua_gdf_island['poverty'] == 1].copy(deep=True)\n",
    "# reset index for heatmap\n",
    "hua_gdf_island_poverty.reset_index(inplace=True)\n",
    "hua_gdf_island_poverty[['numprec','placeNAME10']].groupby('placeNAME10').sum()"
   ]
  },
  {
   "cell_type": "code",
   "execution_count": 14,
   "metadata": {},
   "outputs": [
    {
     "data": {
      "text/plain": [
       "<Axes: >"
      ]
     },
     "execution_count": 14,
     "metadata": {},
     "output_type": "execute_result"
    },
    {
     "data": {
      "image/png": "[encoded data removed]",
      "text/plain": [
       "<Figure size 640x480 with 1 Axes>"
      ]
     },
     "metadata": {},
     "output_type": "display_data"
    }
   ],
   "source": [
    "# plot data\n",
    "hua_gdf_island_poverty.plot()\n"
   ]
  },
  {
   "cell_type": "code",
   "execution_count": 15,
   "metadata": {},
   "outputs": [
    {
     "name": "stdout",
     "output_type": "stream",
     "text": [
      "The median income is: 38845.0\n"
     ]
    },
    {
     "data": {
      "text/html": [
       "<div>\n",
       "<style scoped>\n",
       "    .dataframe tbody tr th:only-of-type {\n",
       "        vertical-align: middle;\n",
       "    }\n",
       "\n",
       "    .dataframe tbody tr th {\n",
       "        vertical-align: top;\n",
       "    }\n",
       "\n",
       "    .dataframe thead th {\n",
       "        text-align: right;\n",
       "    }\n",
       "</style>\n",
       "<table border=\"1\" class=\"dataframe\">\n",
       "  <thead>\n",
       "    <tr style=\"text-align: right;\">\n",
       "      <th></th>\n",
       "      <th>numprec</th>\n",
       "    </tr>\n",
       "    <tr>\n",
       "      <th>placeNAME10</th>\n",
       "      <th></th>\n",
       "    </tr>\n",
       "  </thead>\n",
       "  <tbody>\n",
       "    <tr>\n",
       "      <th>Galveston</th>\n",
       "      <td>2129</td>\n",
       "    </tr>\n",
       "    <tr>\n",
       "      <th>Jamaica Beach</th>\n",
       "      <td>8</td>\n",
       "    </tr>\n",
       "  </tbody>\n",
       "</table>\n",
       "</div>"
      ],
      "text/plain": [
       "               numprec\n",
       "placeNAME10           \n",
       "Galveston         2129\n",
       "Jamaica Beach        8"
      ]
     },
     "execution_count": 15,
     "metadata": {},
     "output_type": "execute_result"
    }
   ],
   "source": [
    "# select observations where low income, tenure = 2, and race != 1 and hispan != 0\n",
    "# low income is defined as below median income of randincome\n",
    "median_income = hua_gdf_island['randincome'].median()\n",
    "print(\"The median income is: \"+str(median_income))\n",
    "\n",
    "condition1 = (hua_gdf_island['randincome'] <= median_income)\n",
    "condition2 = (hua_gdf_island['ownershp'] == 2)\n",
    "condition3 = (hua_gdf_island['race'] != 1)\n",
    "condition4 = (hua_gdf_island['hispan'] != 0)\n",
    "hua_gdf_highSVI = hua_gdf_island[condition1 & condition2 & condition3 & condition4].copy(deep=True)\n",
    "# reset index for heatmap\n",
    "hua_gdf_highSVI.reset_index(inplace=True)\n",
    "hua_gdf_highSVI[['numprec','placeNAME10']].groupby('placeNAME10').sum()"
   ]
  },
  {
   "cell_type": "code",
   "execution_count": 16,
   "metadata": {},
   "outputs": [
    {
     "data": {
      "text/plain": [
       "<Axes: >"
      ]
     },
     "execution_count": 16,
     "metadata": {},
     "output_type": "execute_result"
    },
    {
     "data": {
      "image/png": "[encoded data removed]",
      "text/plain": [
       "<Figure size 640x480 with 1 Axes>"
      ]
     },
     "metadata": {},
     "output_type": "display_data"
    }
   ],
   "source": [
    "hua_gdf_highSVI.plot()"
   ]
  },
  {
   "cell_type": "markdown",
   "metadata": {},
   "source": [
    "## Explore Data\n",
    "Make a heat map of poverty"
   ]
  },
  {
   "cell_type": "code",
   "execution_count": 17,
   "metadata": {},
   "outputs": [
    {
     "name": "stdout",
     "output_type": "stream",
     "text": [
      "Help on function plot_heatmap_from_gdf in module pyincore_viz.geoutil:\n",
      "\n",
      "plot_heatmap_from_gdf(gdf, fld_name, radius=10, blur=10, max=1, multiplier=1, name='')\n",
      "    Creates ipyleaflet map object and fit the map using the bounding box information.\n",
      "    \n",
      "    Args:\n",
      "        gdf (GeoDataFrame): GeoPandas geodataframe.\n",
      "        fld_name (str): column name to be plot in heat map.\n",
      "        radius (float): Radius of each \"point\" of the heatmap.\n",
      "        blur (float): Amount of blur.\n",
      "        max (float): Maximum point intensity.\n",
      "        multiplier (float): A multiplication factor for making fld value to more clearly in the map.\n",
      "        name (str): A name that represents the layer.\n",
      "    \n",
      "    Returns:\n",
      "        obj: An ipyleaflet map.\n",
      "\n"
     ]
    }
   ],
   "source": [
    "help(geoviz.plot_heatmap_from_gdf)"
   ]
  },
  {
   "cell_type": "code",
   "execution_count": 18,
   "metadata": {},
   "outputs": [
    {
     "data": {
      "application/vnd.jupyter.widget-view+json": {
       "model_id": "2794e20ac06c4f50871259df4d332042",
       "version_major": 2,
       "version_minor": 0
      },
      "text/plain": [
       "Map(center=[29.217564353279595, -94.9151435443301], controls=(ZoomControl(options=['position', 'zoom_in_text',…"
      ]
     },
     "execution_count": 18,
     "metadata": {},
     "output_type": "execute_result"
    }
   ],
   "source": [
    "map = geoviz.plot_heatmap_from_gdf(gdf = hua_gdf_island_poverty,\n",
    "                            fld_name = 'numprec',\n",
    "                            radius = 5,\n",
    "                            blur = 5,\n",
    "                            name = 'Poverty')\n",
    "map"
   ]
  },
  {
   "cell_type": "code",
   "execution_count": 19,
   "metadata": {},
   "outputs": [
    {
     "data": {
      "application/vnd.jupyter.widget-view+json": {
       "model_id": "4205ee56427f40b6906c4b801be4667d",
       "version_major": 2,
       "version_minor": 0
      },
      "text/plain": [
       "Map(center=[29.2539943524561, -94.87476235868948], controls=(ZoomControl(options=['position', 'zoom_in_text', …"
      ]
     },
     "execution_count": 19,
     "metadata": {},
     "output_type": "execute_result"
    }
   ],
   "source": [
    "map = geoviz.plot_heatmap_from_gdf(gdf = hua_gdf_highSVI,\n",
    "                            fld_name = 'numprec',\n",
    "                            radius = 10,\n",
    "                            blur = 5,\n",
    "                            name = 'Low income minorty renters')\n",
    "map"
   ]
  },
  {
   "cell_type": "code",
   "execution_count": null,
   "metadata": {},
   "outputs": [],
   "source": []
  }
 ],
 "metadata": {
  "kernelspec": {
   "display_name": "pyincoreEnv_rc",
   "language": "python",
   "name": "python3"
  },
  "language_info": {
   "codemirror_mode": {
    "name": "ipython",
    "version": 3
   },
   "file_extension": ".py",
   "mimetype": "text/x-python",
   "name": "python",
   "nbconvert_exporter": "python",
   "pygments_lexer": "ipython3",
   "version": "3.9.18"
  }
 },
 "nbformat": 4,
 "nbformat_minor": 2
}
